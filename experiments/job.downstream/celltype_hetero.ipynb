{
 "cells": [
  {
   "cell_type": "code",
   "execution_count": 1,
   "metadata": {},
   "outputs": [
    {
     "name": "stderr",
     "output_type": "stream",
     "text": [
      "/n/holystore01/LABS/price_lab/Users/khou/miniconda3/lib/python3.8/site-packages/scipy/sparse/data.py:133: RuntimeWarning: overflow encountered in expm1\n",
      "  result = op(self._deduped_data())\n",
      "/n/holystore01/LABS/price_lab/Users/khou/miniconda3/lib/python3.8/site-packages/scipy/sparse/data.py:117: RuntimeWarning: overflow encountered in square\n",
      "  return self._with_data(data ** n)\n",
      "/n/home12/khou/scTRS/scTRS/method.py:394: RuntimeWarning: overflow encountered in square\n",
      "  v_var = v_var - v_mean**2\n",
      "/n/home12/khou/scTRS/scTRS/method.py:394: RuntimeWarning: invalid value encountered in subtract\n",
      "  v_var = v_var - v_mean**2\n"
     ]
    },
    {
     "name": "stdout",
     "output_type": "stream",
     "text": [
      "# load_tms_processed: load facs data, tissue=[Aorta, BAT, Bladder, Brain_Myeloid, Brain_Non-Myeloid, Diaphragm, GAT, Heart, Kidney, Large_Intestine, Limb_Muscle, Liver, Lung, MAT, Mammary_Gland, Marrow, Pancreas, SCAT, Skin, Spleen, Thymus, Tongue, Trachea]\n"
     ]
    },
    {
     "name": "stderr",
     "output_type": "stream",
     "text": [
      "/n/holystore01/LABS/price_lab/Users/khou/miniconda3/lib/python3.8/site-packages/anndata/compat/__init__.py:158: FutureWarning: Moving element from .uns['neighbors']['distances'] to .obsp['distances'].\n",
      "\n",
      "This is where adjacency matrices should go now.\n",
      "  warn(\n",
      "/n/holystore01/LABS/price_lab/Users/khou/miniconda3/lib/python3.8/site-packages/anndata/compat/__init__.py:158: FutureWarning: Moving element from .uns['neighbors']['connectivities'] to .obsp['connectivities'].\n",
      "\n",
      "This is where adjacency matrices should go now.\n",
      "  warn(\n"
     ]
    }
   ],
   "source": [
    "# autoreload\n",
    "%load_ext autoreload\n",
    "%autoreload 2\n",
    "\n",
    "import scTRS.util as util\n",
    "import scTRS.method as md\n",
    "import scTRS.data_loader as dl\n",
    "import submitit\n",
    "import numpy as np\n",
    "from anndata import read_h5ad\n",
    "from statsmodels.stats.multitest import multipletests\n",
    "\n",
    "import pandas as pd\n",
    "import os\n",
    "from os.path import join\n",
    "import itertools\n",
    "import pickle\n",
    "from IPython.display import display, Markdown, Latex\n",
    "import matplotlib.pyplot as plt\n",
    "\n",
    "# constants\n",
    "DATA_PATH = '/n/holystore01/LABS/price_lab/Users/mjzhang/scTRS_data'\n",
    "SCORE_FILE_DIR = join(DATA_PATH, \"score_file\")\n",
    "\n",
    "TRAIT_LIST = ['PASS_Schizophrenia_Ruderfer2018',\n",
    "              'PASS_BipolarDisorder_Ruderfer2018',\n",
    "              'PASS_Alzheimers_Jansen2019', \n",
    "              'PASS_AdultOnsetAsthma_Ferreira2019',\n",
    "              'PASS_Coronary_Artery_Disease', \n",
    "              'PASS_LargeArteryStroke_Malik2018', \n",
    "              'PASS_HDL', 'PASS_LDL',\n",
    "              'PASS_Rheumatoid_Arthritis', 'PASS_Lupus', \n",
    "              'PASS_FastingGlucose_Manning',\n",
    "              'PASS_IBD_deLange2017', \n",
    "              'PASS_Type_1_Diabetes', \n",
    "              'PASS_Type_2_Diabetes']\n",
    "\n",
    "SCORE_ADATA = read_h5ad(\"/n/holystore01/LABS/price_lab/Users/mjzhang/scTRS_data/tabula_muris_senis/tabula-muris-senis-facs-official-raw-obj.h5ad\")\n",
    "md.compute_stats(SCORE_ADATA)\n",
    "PLOT_ADATA_DICT = dl.load_tms_processed('/n/holystore01/LABS/price_lab/Users/mjzhang/scTRS_data', data_name='facs', tissue='all')"
   ]
  },
  {
   "cell_type": "code",
   "execution_count": 2,
   "metadata": {},
   "outputs": [],
   "source": [
    "result_dir = join(SCORE_FILE_DIR, \"score.facs.gwas_max_abs_z.top500\")\n",
    "result_dict = {}\n",
    "for trait in TRAIT_LIST:\n",
    "    result_dict[trait] = pd.read_csv(join(result_dir, f\"{trait}.score.gz\"), sep='\\t')\n",
    "    \n",
    "# add random traits result\n",
    "result_dir = join(SCORE_FILE_DIR, \"score.facs.all_size500.weight_1en2\")\n",
    "for rep_i in range(5):\n",
    "    result_dict[f\"random_{rep_i}\"] = pd.read_csv(join(result_dir, f\"all_size500_rep{rep_i}.score.gz\"), sep='\\t')"
   ]
  },
  {
   "cell_type": "code",
   "execution_count": 3,
   "metadata": {},
   "outputs": [
    {
     "name": "stderr",
     "output_type": "stream",
     "text": [
      "/n/holystore01/LABS/price_lab/Users/khou/miniconda3/lib/python3.8/site-packages/anndata/_core/anndata.py:1094: FutureWarning: is_categorical is deprecated and will be removed in a future version.  Use is_categorical_dtype instead\n",
      "  if not is_categorical(df_full[k]):\n"
     ]
    }
   ],
   "source": [
    "zsc_dict = {trait: result_dict[trait].zscore.values for trait in result_dict}\n",
    "zsc_index = result_dict[trait]['index'].values\n",
    "# For each trait, calculate the mean, sd, geary's C statistics for each tissue - celltype pair\n",
    "# and priotorize\n",
    "trs_stats = util.calculate_trs_stats(zsc_dict=zsc_dict, zsc_index=zsc_index, \n",
    "                                stats_dict = {\"mean\": np.mean, \"sd\": np.std, \"gearysc\": None},\n",
    "                                adata=PLOT_ADATA_DICT[\"Liver\"], stratify_by=\"cell_ontology_class\")\n",
    "trs_stats[\"gearysc\"]"
   ]
  },
  {
   "cell_type": "markdown",
   "metadata": {},
   "source": [
    "# Use negative controls to determine significance"
   ]
  },
  {
   "cell_type": "code",
   "execution_count": 31,
   "metadata": {},
   "outputs": [],
   "source": [
    "trait = \"PASS_LDL\"\n",
    "ctrl_zsc = pd.read_csv(f\"out/celltype_hetero/{trait}.ctrl_zsc.gz\", sep='\\t', index_col=0)\n",
    "ctrl_cols = [col for col in ctrl_zsc.columns if col.startswith(\"ctrl_\")]"
   ]
  },
  {
   "cell_type": "code",
   "execution_count": 33,
   "metadata": {},
   "outputs": [
    {
     "name": "stderr",
     "output_type": "stream",
     "text": [
      "/n/holystore01/LABS/price_lab/Users/khou/miniconda3/lib/python3.8/site-packages/anndata/_core/anndata.py:1094: FutureWarning: is_categorical is deprecated and will be removed in a future version.  Use is_categorical_dtype instead\n",
      "  if not is_categorical(df_full[k]):\n"
     ]
    }
   ],
   "source": [
    "tissue = \"Liver\"\n",
    "tissue_index = SCORE_ADATA.obs.index[SCORE_ADATA.obs.tissue == tissue]\n",
    "tissue_ctrl_zsc = ctrl_zsc.loc[tissue_index, :]\n",
    "\n",
    "zsc_dict = dict()\n",
    "zsc_dict[trait] = tissue_ctrl_zsc[trait]\n",
    "for col in ctrl_cols:\n",
    "    zsc_dict[col] = tissue_ctrl_zsc[col]\n",
    "    \n",
    "zsc_index = tissue_index\n",
    "trs_stats = util.calculate_trs_stats(zsc_dict=zsc_dict, zsc_index=zsc_index, \n",
    "                                stats_dict = {\"mean\": np.mean, \"sd\": np.std, \"gearysc\": None},\n",
    "                                adata=PLOT_ADATA_DICT[tissue], stratify_by=\"cell_ontology_class\")"
   ]
  },
  {
   "cell_type": "code",
   "execution_count": 34,
   "metadata": {},
   "outputs": [
    {
     "data": {
      "image/png": "[encoded data removed]",
      "text/plain": [
       "<Figure size 720x216 with 2 Axes>"
      ]
     },
     "metadata": {
      "needs_background": "light"
     },
     "output_type": "display_data"
    },
    {
     "data": {
      "image/png": "[encoded data removed]",
      "text/plain": [
       "<Figure size 720x216 with 2 Axes>"
      ]
     },
     "metadata": {
      "needs_background": "light"
     },
     "output_type": "display_data"
    },
    {
     "data": {
      "image/png": "[encoded data removed]",
      "text/plain": [
       "<Figure size 720x216 with 2 Axes>"
      ]
     },
     "metadata": {
      "needs_background": "light"
     },
     "output_type": "display_data"
    }
   ],
   "source": [
    "ct_list = [\"B cell\", \"hepatocyte\"]\n",
    "for name in [\"mean\", \"sd\", \"gearysc\"]:\n",
    "    plt.figure(figsize=(10, 3))\n",
    "    for ct_i, ct in enumerate(ct_list):\n",
    "        plt.subplot(1, len(ct_list), ct_i + 1)\n",
    "        plt.hist(trs_stats[name].loc[ct, ctrl_cols], 30)\n",
    "        plt.axvline(trs_stats[name].loc[ct, trait], ls=\"--\", color=\"red\")\n",
    "        plt.title(ct)\n",
    "    plt.suptitle(name)\n",
    "    plt.show()"
   ]
  }
 ],
 "metadata": {
  "kernelspec": {
   "display_name": "Python 3",
   "language": "python",
   "name": "python3"
  },
  "language_info": {
   "codemirror_mode": {
    "name": "ipython",
    "version": 3
   },
   "file_extension": ".py",
   "mimetype": "text/x-python",
   "name": "python",
   "nbconvert_exporter": "python",
   "pygments_lexer": "ipython3",
   "version": "3.8.3"
  }
 },
 "nbformat": 4,
 "nbformat_minor": 4
}
