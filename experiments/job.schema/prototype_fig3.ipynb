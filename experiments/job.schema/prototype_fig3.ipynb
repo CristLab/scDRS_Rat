{
 "cells": [
  {
   "cell_type": "code",
   "execution_count": 23,
   "metadata": {},
   "outputs": [],
   "source": [
    "import matplotlib.pyplot as plt\n",
    "from matplotlib.collections import LineCollection\n",
    "import seaborn as sns\n",
    "import pandas as pd\n",
    "import numpy as np"
   ]
  },
  {
   "cell_type": "code",
   "execution_count": 83,
   "metadata": {},
   "outputs": [
    {
     "data": {
      "image/png": "[encoded data removed]",
      "text/plain": [
       "<Figure size 360x216 with 2 Axes>"
      ]
     },
     "metadata": {
      "needs_background": "light"
     },
     "output_type": "display_data"
    }
   ],
   "source": [
    "def crossout(points, ax=None, scale=1, **kwargs):\n",
    "    ax = ax or plt.gca()\n",
    "    l = np.array([[[1,1],[-1,-1]]])*scale/2.+0.5\n",
    "    r = np.array([[[-1,1],[1,-1]]])*scale/2.+0.5\n",
    "    p = np.atleast_3d(points).transpose(0,2,1)\n",
    "    c = LineCollection(np.concatenate((l+p,r+p), axis=0), **kwargs)\n",
    "    ax.add_collection(c)\n",
    "    return c\n",
    "\n",
    "def crossout_hallow(points, ax=None, scale=1, **kwargs):\n",
    "    ax = ax or plt.gca()\n",
    "    l1 = np.array([[[1,1],[0.3,0.3]]])*scale/2.+0.5\n",
    "    l2 = np.array([[[-0.3,-0.3],[-1,-1]]])*scale/2.+0.5\n",
    "    r1 = np.array([[[-1,1],[-0.3, 0.3]]])*scale/2.+0.5\n",
    "    r2 = np.array([[[0.3,-0.3],[1,-1]]])*scale/2.+0.5\n",
    "    p = np.atleast_3d(points).transpose(0,2,1)\n",
    "    c = LineCollection(np.concatenate((l1+p,l2+p,r1+p,r2+p), axis=0), **kwargs)\n",
    "    ax.add_collection(c)\n",
    "    return c\n",
    "\n",
    "# Toydata \n",
    "df_prop = pd.DataFrame([[0.1, 0.2, 0, 0], [0.9, 0.5, 0, 0.1], [0, 0.5, 0, 0]])\n",
    "df_assoc = pd.DataFrame([[1, 0, 0, 0], [1, 1, 0, 0], [1, 1, 1, 0]], dtype=bool)\n",
    "df_het = pd.DataFrame([[1, 1, 1, 0], [1, 1, 0, 0], [1, 0, 0, 0]], dtype=bool)\n",
    "\n",
    "\n",
    "fig, ax = plt.subplots(figsize=[5,3])\n",
    "sns.heatmap(df_prop, annot_kws={'fontsize':16}, fmt='s', cmap='Reds', vmin=0, vmax=1)\n",
    "# Add cell type associations \n",
    "ax.scatter(np.argwhere(df_assoc.values.T)[:,0]+0.5, np.argwhere(df_assoc.values.T)[:,1]+0.5,\n",
    "           marker='*', color='k', s=160)\n",
    "# Add heterogeneity for sig associations: hallowed cross\n",
    "mat_mask = df_het.values*df_assoc.values\n",
    "crossout_hallow(np.argwhere(mat_mask.T), ax=ax, scale=0.75, color=\"black\")\n",
    "# Add heterogeneity for non-sig associations: solid cross\n",
    "mat_mask = df_het.values*(~df_assoc.values)\n",
    "crossout(np.argwhere(mat_mask.T), ax=ax, scale=0.75, color=\"black\")\n",
    "plt.show()"
   ]
  },
  {
   "cell_type": "code",
   "execution_count": 71,
   "metadata": {},
   "outputs": [
    {
     "data": {
      "text/plain": [
       "array([0, 0, 0, 1, 1, 2])"
      ]
     },
     "execution_count": 71,
     "metadata": {},
     "output_type": "execute_result"
    }
   ],
   "source": []
  },
  {
   "cell_type": "code",
   "execution_count": null,
   "metadata": {},
   "outputs": [],
   "source": []
  },
  {
   "cell_type": "code",
   "execution_count": 31,
   "metadata": {},
   "outputs": [
    {
     "data": {
      "image/png": "[encoded data removed]",
      "text/plain": [
       "<Figure size 432x288 with 2 Axes>"
      ]
     },
     "metadata": {
      "needs_background": "light"
     },
     "output_type": "display_data"
    }
   ],
   "source": [
    "data = np.random.rand(10,10)\n",
    "mask = np.zeros_like(data)\n",
    "mask[np.triu_indices_from(mask)] = True\n",
    "\n",
    "data_masked = np.ma.array(data, mask=mask)\n",
    "\n",
    "fig, ax = plt.subplots()\n",
    "im = ax.imshow(data_masked, cmap=\"YlGnBu\", origin=\"upper\")\n",
    "fig.colorbar(im)\n",
    "\n",
    "\n",
    "crossout(np.argwhere(data_masked.T < 0.4), ax=ax, scale=0.8, color=\"black\")\n",
    "\n",
    "\n",
    "plt.show()"
   ]
  },
  {
   "cell_type": "code",
   "execution_count": 32,
   "metadata": {},
   "outputs": [
    {
     "data": {
      "text/plain": [
       "masked_array(\n",
       "  data=[[--, --, --, --, --, --, --, --, --, --],\n",
       "        [0.12661231220548197, --, --, --, --, --, --, --, --, --],\n",
       "        [0.6106813452665741, 0.7828162113305617, --, --, --, --, --, --,\n",
       "         --, --],\n",
       "        [0.7198680523034128, 0.2791345988212103, 0.4281854730425696, --,\n",
       "         --, --, --, --, --, --],\n",
       "        [0.918277371242602, 0.4999375268232501, 0.5014292026501743,\n",
       "         0.7175668439185859, --, --, --, --, --, --],\n",
       "        [0.982500965808896, 0.31273811413064967, 0.9240028047675829,\n",
       "         0.9135250689803976, 0.14063907572901457, --, --, --, --, --],\n",
       "        [0.7750251484295115, 0.002033027631517248, 0.7898047431419599,\n",
       "         0.16074661218353525, 0.7342240158354608, 0.710740987950083, --,\n",
       "         --, --, --],\n",
       "        [0.9353261614565802, 0.16809326556157533, 0.010459784204739697,\n",
       "         0.507018602205434, 0.7824632882670431, 0.11227272314470471,\n",
       "         0.7770522390102381, --, --, --],\n",
       "        [0.3927584255547957, 0.48949758918608943, 0.33308141633275834,\n",
       "         0.4002245321432458, 0.5384382214908051, 0.5518067971998927,\n",
       "         0.23403780965158993, 0.12067255418023948, --, --],\n",
       "        [0.5938621669618322, 0.20924305294204482, 0.7517939868193955,\n",
       "         0.7263624122101379, 0.5260154614516761, 0.6429883878343128,\n",
       "         0.2517590322532277, 0.9396065802978765, 0.9853242171042499, --]],\n",
       "  mask=[[ True,  True,  True,  True,  True,  True,  True,  True,  True,\n",
       "          True],\n",
       "        [False,  True,  True,  True,  True,  True,  True,  True,  True,\n",
       "          True],\n",
       "        [False, False,  True,  True,  True,  True,  True,  True,  True,\n",
       "          True],\n",
       "        [False, False, False,  True,  True,  True,  True,  True,  True,\n",
       "          True],\n",
       "        [False, False, False, False,  True,  True,  True,  True,  True,\n",
       "          True],\n",
       "        [False, False, False, False, False,  True,  True,  True,  True,\n",
       "          True],\n",
       "        [False, False, False, False, False, False,  True,  True,  True,\n",
       "          True],\n",
       "        [False, False, False, False, False, False, False,  True,  True,\n",
       "          True],\n",
       "        [False, False, False, False, False, False, False, False,  True,\n",
       "          True],\n",
       "        [False, False, False, False, False, False, False, False, False,\n",
       "          True]],\n",
       "  fill_value=1e+20)"
      ]
     },
     "execution_count": 32,
     "metadata": {},
     "output_type": "execute_result"
    }
   ],
   "source": [
    "data_masked"
   ]
  },
  {
   "cell_type": "code",
   "execution_count": null,
   "metadata": {},
   "outputs": [],
   "source": []
  }
 ],
 "metadata": {
  "kernelspec": {
   "display_name": "Python 3",
   "language": "python",
   "name": "python3"
  },
  "language_info": {
   "codemirror_mode": {
    "name": "ipython",
    "version": 3
   },
   "file_extension": ".py",
   "mimetype": "text/x-python",
   "name": "python",
   "nbconvert_exporter": "python",
   "pygments_lexer": "ipython3",
   "version": "3.7.2"
  }
 },
 "nbformat": 4,
 "nbformat_minor": 4
}
