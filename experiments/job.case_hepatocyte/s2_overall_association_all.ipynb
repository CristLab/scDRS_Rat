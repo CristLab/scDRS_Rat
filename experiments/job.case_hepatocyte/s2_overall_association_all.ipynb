{
 "cells": [
  {
   "cell_type": "code",
   "execution_count": 1,
   "metadata": {},
   "outputs": [],
   "source": [
    "import scanpy as sc\n",
    "from anndata import read_h5ad\n",
    "import pandas as pd\n",
    "import numpy as np\n",
    "import scipy as sp\n",
    "from statsmodels.stats.multitest import multipletests\n",
    "import matplotlib.pyplot as plt\n",
    "import seaborn as sns\n",
    "import os\n",
    "from os.path import join\n",
    "import time\n",
    "from gprofiler import GProfiler\n",
    "\n",
    "# scTRS tools\n",
    "import scTRS.util as util\n",
    "import scTRS.data_loader as dl\n",
    "import scTRS.method as md\n",
    "\n",
    "# autoreload\n",
    "%load_ext autoreload\n",
    "%autoreload 2"
   ]
  },
  {
   "cell_type": "code",
   "execution_count": 2,
   "metadata": {},
   "outputs": [],
   "source": [
    "# Setup file paths\n",
    "DATA_PATH = '/n/holystore01/LABS/price_lab/Users/mjzhang/scTRS_data'\n",
    "GS_FILE='/n/holystore01/LABS/price_lab/Users/mjzhang/scTRS_data/gs_file/magma_10kb_1000.gs'\n",
    "FIG_PATH = '/n/holystore01/LABS/price_lab/Users/mjzhang/scTRS_data/results/fig_hep'\n",
    "\n",
    "df_gs = pd.read_csv(GS_FILE, sep='\\t')\n",
    "TRAIT_LIST_FULL = sorted(df_gs['TRAIT'])\n",
    "\n",
    "# Data set info\n",
    "DS_LIST = ['facs']\n",
    "DIC_INFO = {}\n",
    "DIC_INFO['facs'] = {'species': 'mmusculus', 'dname': 'TMS FACS'}\n",
    "\n",
    "# Set score files\n",
    "DIC_SCORE_PATH = {'facs': DATA_PATH+'/score_file/score.tms_facs_with_cov.magma_10kb_1000'}"
   ]
  },
  {
   "cell_type": "code",
   "execution_count": 3,
   "metadata": {},
   "outputs": [
    {
     "name": "stderr",
     "output_type": "stream",
     "text": [
      "Trying to set attribute `.obs` of view, copying.\n"
     ]
    },
    {
     "name": "stdout",
     "output_type": "stream",
     "text": [
      "# Loading facs score\n"
     ]
    }
   ],
   "source": [
    "# Load raw data \n",
    "dic_data_raw = {}\n",
    "dic_data_raw['facs'] = dl.load_tms_ct(DATA_PATH, data_name='facs')\n",
    "\n",
    "# Load score \n",
    "dic_score = {x:pd.DataFrame() for x in DIC_SCORE_PATH}\n",
    "for score in DIC_SCORE_PATH:\n",
    "    print('# Loading %s score'%score)\n",
    "    for trait in TRAIT_LIST_FULL:\n",
    "        score_file = DIC_SCORE_PATH[score]+'/%s.score.gz'%trait\n",
    "        if os.path.exists(score_file) is False:\n",
    "            print('# Missing score file: %s'%trait)\n",
    "        temp_df = pd.read_csv(score_file, sep='\\t', index_col=0)\n",
    "        temp_df.columns = ['%s.%s'%(trait,x) for x in temp_df.columns]\n",
    "        temp_df['%s.fdr'%trait] = multipletests(temp_df['%s.pval'%trait], method='fdr_bh')[1]\n",
    "        dic_score[score] = pd.concat([dic_score[score], temp_df], axis=1)\n",
    "\n",
    "# Align cell list \n",
    "dic_cell_list = {}\n",
    "for ds in DS_LIST:\n",
    "    dic_cell_list[ds] = list(set(dic_data_raw['facs'].obs_names) & set(dic_score[ds].index))\n"
   ]
  },
  {
   "cell_type": "code",
   "execution_count": 42,
   "metadata": {
    "scrolled": false
   },
   "outputs": [
    {
     "data": {
      "text/html": [
       "<div>\n",
       "<style scoped>\n",
       "    .dataframe tbody tr th:only-of-type {\n",
       "        vertical-align: middle;\n",
       "    }\n",
       "\n",
       "    .dataframe tbody tr th {\n",
       "        vertical-align: top;\n",
       "    }\n",
       "\n",
       "    .dataframe thead th {\n",
       "        text-align: right;\n",
       "    }\n",
       "</style>\n",
       "<table border=\"1\" class=\"dataframe\">\n",
       "  <thead>\n",
       "    <tr style=\"text-align: right;\">\n",
       "      <th></th>\n",
       "      <th>bp_DIASTOLICadjMEDz</th>\n",
       "      <th>bp_SYSTOLICadjMEDz</th>\n",
       "    </tr>\n",
       "  </thead>\n",
       "  <tbody>\n",
       "    <tr>\n",
       "      <th>bp_DIASTOLICadjMEDz</th>\n",
       "      <td>1.000000</td>\n",
       "      <td>0.689135</td>\n",
       "    </tr>\n",
       "    <tr>\n",
       "      <th>bp_SYSTOLICadjMEDz</th>\n",
       "      <td>0.689135</td>\n",
       "      <td>1.000000</td>\n",
       "    </tr>\n",
       "  </tbody>\n",
       "</table>\n",
       "</div>"
      ],
      "text/plain": [
       "                     bp_DIASTOLICadjMEDz  bp_SYSTOLICadjMEDz\n",
       "bp_DIASTOLICadjMEDz             1.000000            0.689135\n",
       "bp_SYSTOLICadjMEDz              0.689135            1.000000"
      ]
     },
     "metadata": {},
     "output_type": "display_data"
    },
    {
     "name": "stdout",
     "output_type": "stream",
     "text": [
      "# UKB_460K.bp_DIASTOLICadjMEDz: 492/110096\n"
     ]
    },
    {
     "data": {
      "text/html": [
       "<div>\n",
       "<style scoped>\n",
       "    .dataframe tbody tr th:only-of-type {\n",
       "        vertical-align: middle;\n",
       "    }\n",
       "\n",
       "    .dataframe tbody tr th {\n",
       "        vertical-align: top;\n",
       "    }\n",
       "\n",
       "    .dataframe thead th {\n",
       "        text-align: right;\n",
       "    }\n",
       "</style>\n",
       "<table border=\"1\" class=\"dataframe\">\n",
       "  <thead>\n",
       "    <tr style=\"text-align: right;\">\n",
       "      <th></th>\n",
       "      <th>sig</th>\n",
       "    </tr>\n",
       "    <tr>\n",
       "      <th>cell_ontology_class</th>\n",
       "      <th></th>\n",
       "    </tr>\n",
       "  </thead>\n",
       "  <tbody>\n",
       "    <tr>\n",
       "      <th>brain pericyte</th>\n",
       "      <td>0.190083</td>\n",
       "    </tr>\n",
       "    <tr>\n",
       "      <th>pericyte cell</th>\n",
       "      <td>0.263158</td>\n",
       "    </tr>\n",
       "    <tr>\n",
       "      <th>ventricular myocyte</th>\n",
       "      <td>0.401361</td>\n",
       "    </tr>\n",
       "  </tbody>\n",
       "</table>\n",
       "</div>"
      ],
      "text/plain": [
       "                          sig\n",
       "cell_ontology_class          \n",
       "brain pericyte       0.190083\n",
       "pericyte cell        0.263158\n",
       "ventricular myocyte  0.401361"
      ]
     },
     "metadata": {},
     "output_type": "display_data"
    },
    {
     "name": "stdout",
     "output_type": "stream",
     "text": [
      "# UKB_460K.bp_SYSTOLICadjMEDz: 462/110096\n"
     ]
    },
    {
     "data": {
      "text/html": [
       "<div>\n",
       "<style scoped>\n",
       "    .dataframe tbody tr th:only-of-type {\n",
       "        vertical-align: middle;\n",
       "    }\n",
       "\n",
       "    .dataframe tbody tr th {\n",
       "        vertical-align: top;\n",
       "    }\n",
       "\n",
       "    .dataframe thead th {\n",
       "        text-align: right;\n",
       "    }\n",
       "</style>\n",
       "<table border=\"1\" class=\"dataframe\">\n",
       "  <thead>\n",
       "    <tr style=\"text-align: right;\">\n",
       "      <th></th>\n",
       "      <th>sig</th>\n",
       "    </tr>\n",
       "    <tr>\n",
       "      <th>cell_ontology_class</th>\n",
       "      <th></th>\n",
       "    </tr>\n",
       "  </thead>\n",
       "  <tbody>\n",
       "    <tr>\n",
       "      <th>atrial myocyte</th>\n",
       "      <td>0.248139</td>\n",
       "    </tr>\n",
       "    <tr>\n",
       "      <th>brain pericyte</th>\n",
       "      <td>0.194215</td>\n",
       "    </tr>\n",
       "    <tr>\n",
       "      <th>pericyte cell</th>\n",
       "      <td>0.263158</td>\n",
       "    </tr>\n",
       "    <tr>\n",
       "      <th>ventricular myocyte</th>\n",
       "      <td>0.551020</td>\n",
       "    </tr>\n",
       "  </tbody>\n",
       "</table>\n",
       "</div>"
      ],
      "text/plain": [
       "                          sig\n",
       "cell_ontology_class          \n",
       "atrial myocyte       0.248139\n",
       "brain pericyte       0.194215\n",
       "pericyte cell        0.263158\n",
       "ventricular myocyte  0.551020"
      ]
     },
     "metadata": {},
     "output_type": "display_data"
    }
   ],
   "source": [
    "# Overall association\n",
    "ds = 'facs'\n",
    "trait_list = ['UKB_460K.bp_DIASTOLICadjMEDz','UKB_460K.bp_SYSTOLICadjMEDz']\n",
    "temp_df = dic_score[ds][['%s.norm_score'%x for x in trait_list]].copy()\n",
    "temp_df.columns = [x.replace('.norm_score','').replace('UKB_460K.','') for x in temp_df.columns]\n",
    "display(temp_df.corr())\n",
    "\n",
    "for trait in trait_list:\n",
    "    if '%s.fdr'%trait not in dic_score[ds].columns:\n",
    "        print('# Missing %s'%trait)\n",
    "        continue\n",
    "\n",
    "    temp_df = dic_data_raw['facs'].obs.copy()\n",
    "    temp_df = temp_df.join(dic_score[ds][['%s.fdr'%trait]])\n",
    "    temp_df['sig'] = temp_df['%s.fdr'%trait]<0.1\n",
    "    print('# %s: %d/%d'%(trait, temp_df['sig'].sum(), temp_df.shape[0]))\n",
    "    temp_df = temp_df.groupby('cell_ontology_class').agg({'sig':np.mean})\n",
    "    temp_df = temp_df.loc[temp_df['sig']>0.1]\n",
    "    if temp_df.shape[0]>0:\n",
    "        display(temp_df)"
   ]
  },
  {
   "cell_type": "code",
   "execution_count": 5,
   "metadata": {},
   "outputs": [
    {
     "data": {
      "text/plain": [
       "['facs']"
      ]
     },
     "execution_count": 5,
     "metadata": {},
     "output_type": "execute_result"
    }
   ],
   "source": [
    "DS_LIST"
   ]
  },
  {
   "cell_type": "code",
   "execution_count": null,
   "metadata": {},
   "outputs": [],
   "source": []
  }
 ],
 "metadata": {
  "kernelspec": {
   "display_name": "Python 3",
   "language": "python",
   "name": "python3"
  },
  "language_info": {
   "codemirror_mode": {
    "name": "ipython",
    "version": 3
   },
   "file_extension": ".py",
   "mimetype": "text/x-python",
   "name": "python",
   "nbconvert_exporter": "python",
   "pygments_lexer": "ipython3",
   "version": "3.7.2"
  }
 },
 "nbformat": 4,
 "nbformat_minor": 4
}
