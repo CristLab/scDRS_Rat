{
 "cells": [
  {
   "cell_type": "code",
   "execution_count": 1,
   "metadata": {},
   "outputs": [
    {
     "name": "stdout",
     "output_type": "stream",
     "text": [
      "scanpy==1.5.1 anndata==0.7.4 umap==0.4.6 numpy==1.19.0 scipy==1.5.1 pandas==1.0.5 scikit-learn==0.23.1 statsmodels==0.11.1\n"
     ]
    }
   ],
   "source": [
    "import scanpy as sc\n",
    "import pandas as pd\n",
    "import numpy as np\n",
    "import scipy as sp\n",
    "from statsmodels.stats.multitest import multipletests\n",
    "import matplotlib.pyplot as plt\n",
    "import seaborn as sns\n",
    "import os\n",
    "import time\n",
    "from gprofiler import GProfiler\n",
    "\n",
    "# scTRS tools\n",
    "import scTRS.util as util\n",
    "import scTRS.data_loader as dl\n",
    "import scTRS.method as md\n",
    "\n",
    "# autoreload\n",
    "%load_ext autoreload\n",
    "%autoreload 2\n",
    "# logging\n",
    "sc.logging.print_versions()"
   ]
  },
  {
   "cell_type": "code",
   "execution_count": 2,
   "metadata": {},
   "outputs": [],
   "source": [
    "# Setup file paths\n",
    "DATA_PATH = '/n/holystore01/LABS/price_lab/Users/mjzhang/scTRS_data'\n",
    "# Please change this to your own path\n",
    "OUT_PATH = '/n/holystore01/LABS/price_lab/Users/mjzhang/scTRS_data'"
   ]
  },
  {
   "cell_type": "markdown",
   "metadata": {},
   "source": [
    "### Load TMS data "
   ]
  },
  {
   "cell_type": "code",
   "execution_count": 3,
   "metadata": {},
   "outputs": [
    {
     "name": "stderr",
     "output_type": "stream",
     "text": [
      "Trying to set attribute `.obs` of view, copying.\n"
     ]
    },
    {
     "name": "stdout",
     "output_type": "stream",
     "text": [
      "# TMS facs count data: n_cell=110096, n_gene=22966\n",
      "# time=14.7s\n"
     ]
    }
   ],
   "source": [
    "# Count data (used for scoring genes)\n",
    "start_time = time.time()\n",
    "data_facs_ct = dl.load_tms_ct(DATA_PATH, data_name='facs')\n",
    "print('# TMS facs count data: n_cell=%d, n_gene=%d'\n",
    "      %(data_facs_ct.shape[0], data_facs_ct.shape[1]))\n",
    "print('# time=%0.1fs'%(time.time() - start_time))"
   ]
  },
  {
   "cell_type": "markdown",
   "metadata": {},
   "source": [
    "### Null gene set"
   ]
  },
  {
   "cell_type": "code",
   "execution_count": 8,
   "metadata": {
    "scrolled": true
   },
   "outputs": [
    {
     "name": "stderr",
     "output_type": "stream",
     "text": [
      "/n/home11/mjzhang/myenv/lib/python3.7/site-packages/ipykernel_launcher.py:9: RuntimeWarning: invalid value encountered in true_divide\n",
      "  if __name__ == '__main__':\n"
     ]
    }
   ],
   "source": [
    "np.random.seed(0)\n",
    "gs_size_list = [20, 100, 500]\n",
    "n_rep=100\n",
    "\n",
    "md.compute_stats(data_facs_ct)\n",
    "df_gene = pd.DataFrame(index=data_facs_ct.var_names)\n",
    "df_gene['mean'] = data_facs_ct.var['mean'].values\n",
    "df_gene['std'] = np.sqrt(data_facs_ct.var['var'].values)\n",
    "df_gene['cv'] = df_gene['std'].values/df_gene['mean'].values\n",
    "df_gene['var'] = data_facs_ct.var['var'].values\n",
    "df_gene['var_tech'] = data_facs_ct.var['var_tech'].values\n",
    "df_gene = df_gene.sort_values(by=['mean'])\n",
    "\n",
    "for n_gene in gs_size_list:\n",
    "    for i_rep in np.arange(n_rep):\n",
    "        gs_name = 'all_size%d_rep%d'%(n_gene,i_rep)\n",
    "        ind_select = np.random.permutation(data_facs_ct.shape[1])[:n_gene]\n",
    "        gene_list = list(data_facs_ct.var_names[ind_select])\n",
    "        temp_df = pd.DataFrame()\n",
    "        temp_df['gene'] = gene_list\n",
    "        temp_df['gene_weight.unif'] = np.random.rand(len(gene_list))\n",
    "        temp_df['gene_weight.normal'] = np.random.randn(len(gene_list))\n",
    "        temp_df.to_csv(OUT_PATH+'/data_null_geneset/%s'%gs_name, sep='\\t', index=False)\n",
    "        \n",
    "for n_gene in gs_size_list:\n",
    "    for i_rep in np.arange(n_rep):\n",
    "        # Select lowly- and highly- expressed random genes \n",
    "        ind_select = np.random.permutation(5000)[:n_gene]\n",
    "        gs_name = 'lowexp_size%d_rep%d'%(n_gene,i_rep)\n",
    "        gene_list = list(df_gene.index[:5000][ind_select])\n",
    "        temp_df = pd.DataFrame()\n",
    "        temp_df['gene'] = gene_list\n",
    "        temp_df['gene_weight.unif'] = np.random.rand(len(gene_list))\n",
    "        temp_df['gene_weight.normal'] = np.random.randn(len(gene_list))\n",
    "        temp_df.to_csv(OUT_PATH+'/data_null_geneset/%s'%gs_name, sep='\\t', index=False)\n",
    "        \n",
    "for n_gene in gs_size_list:\n",
    "    for i_rep in np.arange(n_rep):\n",
    "        ind_select = np.random.permutation(5000)[:n_gene]\n",
    "        gs_name = 'highexp_size%d_rep%d'%(n_gene,i_rep)\n",
    "        gene_list = list(df_gene.index[-5000:][ind_select])\n",
    "        temp_df = pd.DataFrame()\n",
    "        temp_df['gene'] = gene_list\n",
    "        temp_df['gene_weight.unif'] = np.random.rand(len(gene_list))\n",
    "        temp_df['gene_weight.normal'] = np.random.randn(len(gene_list))\n",
    "        temp_df.to_csv(OUT_PATH+'/data_null_geneset/%s'%gs_name, sep='\\t', index=False)"
   ]
  },
  {
   "cell_type": "code",
   "execution_count": 9,
   "metadata": {},
   "outputs": [],
   "source": [
    "np.random.seed(0)\n",
    "n_rep=1\n",
    "\n",
    "gs_name = 'allgene_rep0'\n",
    "gene_list = list(data_facs_ct.var_names)\n",
    "temp_df = pd.DataFrame()\n",
    "temp_df['gene'] = gene_list\n",
    "temp_df['gene_weight.unif'] = np.random.rand(len(gene_list))\n",
    "temp_df['gene_weight.normal'] = np.random.randn(len(gene_list))\n",
    "temp_df.to_csv(OUT_PATH+'/data_null_geneset/%s'%gs_name, sep='\\t', index=False)"
   ]
  },
  {
   "cell_type": "code",
   "execution_count": null,
   "metadata": {},
   "outputs": [],
   "source": []
  }
 ],
 "metadata": {
  "kernelspec": {
   "display_name": "Python 3",
   "language": "python",
   "name": "python3"
  },
  "language_info": {
   "codemirror_mode": {
    "name": "ipython",
    "version": 3
   },
   "file_extension": ".py",
   "mimetype": "text/x-python",
   "name": "python",
   "nbconvert_exporter": "python",
   "pygments_lexer": "ipython3",
   "version": "3.7.2"
  }
 },
 "nbformat": 4,
 "nbformat_minor": 4
}
