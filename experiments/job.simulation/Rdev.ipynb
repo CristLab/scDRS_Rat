{
 "cells": [
  {
   "cell_type": "code",
   "execution_count": 1,
   "metadata": {},
   "outputs": [
    {
     "name": "stderr",
     "output_type": "stream",
     "text": [
      "Loading required package: MASS\n",
      "\n",
      "Loading required package: Matrix\n",
      "\n",
      "Attaching SeuratObject\n",
      "\n"
     ]
    }
   ],
   "source": [
    "library(VAM)\n",
    "library(Seurat)"
   ]
  },
  {
   "cell_type": "code",
   "execution_count": 2,
   "metadata": {},
   "outputs": [],
   "source": [
    "SC_FILE='/n/holystore01/LABS/price_lab/Users/mjzhang/scTRS_data/simulation_data/tms_facs.ncell_10k.tsv'\n",
    "GS_FILE='/n/holystore01/LABS/price_lab/Users/mjzhang/scTRS_data/simulation_data/gs_file/highbvar_ngene500.gs'\n",
    "OUT_FILE='/n/holystore01/LABS/price_lab/Users/mjzhang/scTRS_data/simulation_data/result.vam/highbvar_ngene500.tsv'"
   ]
  },
  {
   "cell_type": "code",
   "execution_count": 3,
   "metadata": {},
   "outputs": [],
   "source": [
    "# Load single-cell data\n",
    "raw_counts<-read.table(file=SC_FILE, row.names = 1, header=TRUE, sep='\\t')\n",
    "mydata <- CreateSeuratObject(counts = raw_counts, min.cells = 3, min.genes = 200, project = \"mydata_scRNAseq\")\n",
    "mydata = NormalizeData(mydata)"
   ]
  },
  {
   "cell_type": "code",
   "execution_count": 4,
   "metadata": {
    "scrolled": true
   },
   "outputs": [],
   "source": [
    "# Load .gs data\n",
    "df_gs = read.table(file=GS_FILE, header=TRUE, sep='\\t')\n",
    "gene.set.id.list = list()\n",
    "for (i in 1:dim(df_gs)[1]){\n",
    "    gene.set.id.list[[i]] = strsplit(df_gs[i,2], \",\")[[1]]\n",
    "    names(gene.set.id.list)[i] = df_gs[i,1]\n",
    "#     if (i==2){\n",
    "#         break\n",
    "#     }\n",
    "}\n",
    "# gene.set.id.list"
   ]
  },
  {
   "cell_type": "code",
   "execution_count": 5,
   "metadata": {},
   "outputs": [
    {
     "name": "stderr",
     "output_type": "stream",
     "text": [
      "Did not find vst variance decomposition, setting technical variance proportion to 1\n",
      "\n",
      "Computing VAM distances for 100 gene sets, 10000 cells and 18383 genes.\n",
      "\n",
      "Min set size: 500, median size: 500\n",
      "\n",
      "Computing for gene set 50 of size 500\n",
      "\n"
     ]
    },
    {
     "name": "stdout",
     "output_type": "stream",
     "text": [
      "Error in fitdistr(mahalanobis.sq.null[nonzero.values], \"gamma\", lower = 0.01) : \n",
      "  optimization failed\n"
     ]
    },
    {
     "name": "stderr",
     "output_type": "stream",
     "text": [
      "Warning message in vam(gene.expr = set.exprs, tech.var.prop = tech.var.prop[set.members], :\n",
      "“Estimation of gamma distribution failed, defaulting p-values to 1”\n",
      "Computing for gene set 100 of size 500\n",
      "\n"
     ]
    },
    {
     "name": "stdout",
     "output_type": "stream",
     "text": [
      "Error in fitdistr(mahalanobis.sq.null[nonzero.values], \"gamma\", lower = 0.01) : \n",
      "  optimization failed\n"
     ]
    },
    {
     "name": "stderr",
     "output_type": "stream",
     "text": [
      "Warning message in vam(gene.expr = set.exprs, tech.var.prop = tech.var.prop[set.members], :\n",
      "“Estimation of gamma distribution failed, defaulting p-values to 1”\n",
      "Warning message:\n",
      "“Feature names cannot have underscores ('_'), replacing with dashes ('-')”\n",
      "Warning message:\n",
      "“Feature names cannot have underscores ('_'), replacing with dashes ('-')”\n"
     ]
    }
   ],
   "source": [
    "mydata.vam = vamForSeurat(seurat.data=mydata,\n",
    "                          gene.set.collection=gene.set.id.list,\n",
    "                          center=F, gamma=T, sample.cov=F, return.dist=T)\n",
    "df_pval = mydata.vam@assays$VAMcdf[,]\n",
    "df_pval = data.frame(t(1-df_pval))\n",
    "write.table(df_pval, file=OUT_FILE, sep='\\t')"
   ]
  },
  {
   "cell_type": "code",
   "execution_count": null,
   "metadata": {},
   "outputs": [],
   "source": []
  },
  {
   "cell_type": "code",
   "execution_count": null,
   "metadata": {},
   "outputs": [],
   "source": []
  }
 ],
 "metadata": {
  "kernelspec": {
   "display_name": "R",
   "language": "R",
   "name": "ir"
  },
  "language_info": {
   "codemirror_mode": "r",
   "file_extension": ".r",
   "mimetype": "text/x-r-source",
   "name": "R",
   "pygments_lexer": "r",
   "version": "4.0.2"
  }
 },
 "nbformat": 4,
 "nbformat_minor": 4
}
