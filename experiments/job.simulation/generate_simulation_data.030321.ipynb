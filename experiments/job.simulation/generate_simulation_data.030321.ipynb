{
 "cells": [
  {
   "cell_type": "code",
   "execution_count": 4,
   "metadata": {},
   "outputs": [],
   "source": [
    "import scanpy as sc\n",
    "from anndata import read_h5ad\n",
    "import pandas as pd\n",
    "import numpy as np\n",
    "import os\n",
    "from os.path import join\n",
    "import time\n",
    "import argparse\n",
    "\n",
    "# inhouse tools\n",
    "import scTRS.util as util\n",
    "import scTRS.data_loader as dl\n",
    "import scTRS.method as md\n",
    "\n",
    "# autoreload\n",
    "%load_ext autoreload\n",
    "%autoreload 2"
   ]
  },
  {
   "cell_type": "code",
   "execution_count": 5,
   "metadata": {},
   "outputs": [],
   "source": [
    "# Constants\n",
    "DATA_PATH='/n/holystore01/LABS/price_lab/Users/mjzhang/scTRS_data'\n",
    "OUT_PATH=DATA_PATH+'/simulation_data'\n",
    "H5AD_FILE=DATA_PATH+'/tabula_muris_senis/tabula-muris-senis-facs-official-raw-obj.h5ad'"
   ]
  },
  {
   "cell_type": "code",
   "execution_count": 6,
   "metadata": {},
   "outputs": [
    {
     "name": "stdout",
     "output_type": "stream",
     "text": [
      "# H5AD_FILE loaded:  (110823, 18383)\n"
     ]
    }
   ],
   "source": [
    "# Load .h5ad file \n",
    "adata = read_h5ad(H5AD_FILE)\n",
    "sc.pp.filter_cells(adata, min_genes=500)\n",
    "sc.pp.filter_genes(adata, min_cells=200)\n",
    "print('# H5AD_FILE loaded: ', adata.shape)"
   ]
  },
  {
   "cell_type": "code",
   "execution_count": 12,
   "metadata": {},
   "outputs": [
    {
     "name": "stdout",
     "output_type": "stream",
     "text": [
      "(1000, 18383)\n",
      "(2000, 18383)\n",
      "(5000, 18383)\n",
      "(10000, 18383)\n",
      "(20000, 18383)\n"
     ]
    }
   ],
   "source": [
    "# # Generate subsampled data \n",
    "# for n_cell in [1e3,2e3,5e3,1e4,2e4]:\n",
    "#     np.random.seed(0)\n",
    "#     ind_select = np.random.choice(np.arange(adata.shape[0]), size=int(n_cell), replace=False)\n",
    "#     temp_adata = adata[ind_select].copy()\n",
    "#     temp_adata.write(OUT_PATH+'/tms_facs.ncell_%dk.h5ad'%int(n_cell/1000))\n",
    "    \n",
    "#     if n_cell==1e4:\n",
    "#         temp_adata.obs.to_csv(OUT_PATH+'/tms_facs.ncell_%dk.obs'%int(n_cell/1000), sep='\\t')\n",
    "#         temp_df = pd.DataFrame(index=temp_adata.obs_names, columns=temp_adata.var_names,\n",
    "#                                data=temp_adata.X.toarray(), dtype=int).T\n",
    "#         temp_df.to_csv(OUT_PATH+'/tms_facs.ncell_%dk.tsv'%int(n_cell/1000), sep='\\t')\n",
    "#     print(temp_adata.shape)"
   ]
  },
  {
   "cell_type": "markdown",
   "metadata": {},
   "source": [
    "### Generate .gs files "
   ]
  },
  {
   "cell_type": "code",
   "execution_count": 5,
   "metadata": {},
   "outputs": [],
   "source": [
    "# Constants \n",
    "GS_SIZE_LIST = [50, 200, 500]\n",
    "N_REP = 100\n",
    "\n",
    "adata_norm = adata.copy()\n",
    "sc.pp.normalize_per_cell(adata_norm, counts_per_cell_after=1e4)\n",
    "sc.pp.log1p(adata_norm)\n",
    "md.compute_stats(adata_norm)"
   ]
  },
  {
   "cell_type": "code",
   "execution_count": 6,
   "metadata": {},
   "outputs": [
    {
     "name": "stderr",
     "output_type": "stream",
     "text": [
      "... storing 'age_yo' as categorical\n"
     ]
    }
   ],
   "source": [
    "dic_gs_all = {}\n",
    "\n",
    "# All genes \n",
    "dic_gs_all['all'] = sorted(adata.var_names)\n",
    "\n",
    "# Highly-expressed genes \n",
    "dic_gs_all['highexp'] = sorted(adata_norm.var.sort_values('mean', ascending=False).index[0:2000])\n",
    "\n",
    "# Overly-dispersed genes \n",
    "temp_df = adata_norm.var.copy()\n",
    "temp_df['bvar'] = temp_df['var'] - temp_df['var_tech']\n",
    "dic_gs_all['highbvar'] = sorted(temp_df.sort_values('bvar', ascending=False).index[0:2000])\n",
    "\n",
    "# Male-specific genes \n",
    "sc.tl.rank_genes_groups(adata_norm, 'sex', groups=['male'], reference='female', method='t-test_overestim_var')\n",
    "dic_gs_all['male'] = [x[0] for x in adata_norm.uns['rank_genes_groups']['names'][:2000]]\n",
    "\n",
    "# Old-specific genes \n",
    "adata_norm.obs['age_yo'] = ['young' if x=='3m' else 'old' for x in adata_norm.obs['age']]\n",
    "sc.tl.rank_genes_groups(adata_norm, 'age_yo', groups=['old'], reference='rest', method='t-test_overestim_var')\n",
    "dic_gs_all['old'] = [x[0] for x in adata_norm.uns['rank_genes_groups']['names'][:2000]]"
   ]
  },
  {
   "cell_type": "code",
   "execution_count": 7,
   "metadata": {},
   "outputs": [],
   "source": [
    "# Randomly sample genes \n",
    "f = open(OUT_PATH+'/simu_list.txt', 'w')\n",
    "for suffix in dic_gs_all.keys():\n",
    "    for n_gene in GS_SIZE_LIST:\n",
    "        gs_name = '%s_ngene%d'%(suffix, n_gene)\n",
    "        df_gs = pd.DataFrame(columns=['TRAIT', 'GENESET'])\n",
    "        for i_rep in np.arange(N_REP):\n",
    "            np.random.seed(i_rep)\n",
    "            temp_list = np.random.choice(dic_gs_all[suffix], size=n_gene, replace=False)\n",
    "            df_gs.loc[i_rep] =  ['%s_rep%d'%(gs_name,i_rep), ','.join(temp_list)]\n",
    "        df_gs.to_csv(OUT_PATH+'/gs_file/%s.gs'%gs_name, sep='\\t', index=False)\n",
    "        f.write(gs_name+'\\n')\n",
    "f.close()"
   ]
  },
  {
   "cell_type": "code",
   "execution_count": null,
   "metadata": {},
   "outputs": [],
   "source": []
  },
  {
   "cell_type": "code",
   "execution_count": null,
   "metadata": {},
   "outputs": [],
   "source": []
  },
  {
   "cell_type": "code",
   "execution_count": null,
   "metadata": {},
   "outputs": [],
   "source": []
  },
  {
   "cell_type": "code",
   "execution_count": null,
   "metadata": {},
   "outputs": [],
   "source": []
  }
 ],
 "metadata": {
  "kernelspec": {
   "display_name": "Python 3",
   "language": "python",
   "name": "python3"
  },
  "language_info": {
   "codemirror_mode": {
    "name": "ipython",
    "version": 3
   },
   "file_extension": ".py",
   "mimetype": "text/x-python",
   "name": "python",
   "nbconvert_exporter": "python",
   "pygments_lexer": "ipython3",
   "version": "3.7.2"
  }
 },
 "nbformat": 4,
 "nbformat_minor": 4
}
