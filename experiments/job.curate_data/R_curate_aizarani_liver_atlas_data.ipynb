{
 "cells": [
  {
   "cell_type": "code",
   "execution_count": 3,
   "metadata": {},
   "outputs": [
    {
     "name": "stderr",
     "output_type": "stream",
     "text": [
      "Warning message in readChar(con, 5L, useBytes = TRUE):\n",
      "“truncating string with embedded nuls”\n",
      "Warning message in grepl(\"RD[ABX][2-9]\\n\", magic):\n",
      "“input string 1 is invalid in this locale”\n",
      "Warning message in grepl(\"RD[ABX][2-9]\\r\", magic):\n",
      "“input string 1 is invalid in this locale”\n"
     ]
    }
   ],
   "source": [
    "FILE_NAME=paste0('/n/holystore01/LABS/price_lab/Users/mjzhang/scTRS_data/liver_atlas/',\n",
    "                 'GSE124395_Normalhumanliverdata.RData.gz')\n",
    "data = load(FILE_NAME)"
   ]
  },
  {
   "cell_type": "code",
   "execution_count": null,
   "metadata": {},
   "outputs": [],
   "source": []
  }
 ],
 "metadata": {
  "kernelspec": {
   "display_name": "R",
   "language": "R",
   "name": "ir"
  },
  "language_info": {
   "codemirror_mode": "r",
   "file_extension": ".r",
   "mimetype": "text/x-r-source",
   "name": "R",
   "pygments_lexer": "r",
   "version": "4.0.2"
  }
 },
 "nbformat": 4,
 "nbformat_minor": 4
}
