{
 "cells": [
  {
   "cell_type": "code",
   "execution_count": 2,
   "metadata": {},
   "outputs": [],
   "source": [
    "import scanpy as sc\n",
    "import pandas as pd\n",
    "import numpy as np\n",
    "import scipy as sp\n",
    "from statsmodels.stats.multitest import multipletests\n",
    "import os\n",
    "from os.path import join\n",
    "import time\n",
    "\n",
    "from anndata import read_h5ad\n",
    "\n",
    "# scTRS tools\n",
    "import scTRS.util as util\n",
    "import scTRS.data_loader as dl\n",
    "import scTRS.method as md\n",
    "\n",
    "# autoreload\n",
    "%load_ext autoreload\n",
    "%autoreload 2"
   ]
  },
  {
   "cell_type": "markdown",
   "metadata": {},
   "source": [
    "### Make GS file "
   ]
  },
  {
   "cell_type": "code",
   "execution_count": null,
   "metadata": {},
   "outputs": [],
   "source": [
    "# GENE_SCORE_PATH='/n/holystore01/LABS/price_lab/Users/mjzhang/scTRS_data/trs_gene_scores/gwas_max_abs_z'\n",
    "\n",
    "# # Top 500 GWAS genes \n",
    "# df_gs = pd.DataFrame(columns=['TRAIT', 'GENESET'])\n",
    "# for file in os.listdir(GENE_SCORE_PATH):\n",
    "#     trait=file.replace('.csv','')\n",
    "#     temp_df = pd.read_csv(join(GENE_SCORE_PATH, file), sep=',')\n",
    "#     temp_df = temp_df.loc[~temp_df['MAX_ABS_Z'].isna()]\n",
    "#     temp_df = temp_df.sort_values(by='MAX_ABS_Z', ascending=False)\n",
    "#     df_gs.loc[trait] = [trait,','.join(temp_df['GENE'][0:500])]\n",
    "# df_gs.to_csv('/n/holystore01/LABS/price_lab/Users/mjzhang/scTRS_data/gs_file/gwas_max_abs_z.top500.gs',\n",
    "#              sep='\\t', index=False)\n",
    "\n",
    "# BATCH_SIZE=5\n",
    "# for i_batch in range(np.ceil(df_gs.shape[0]/BATCH_SIZE).astype(int)):\n",
    "#     df_gs.iloc[i_batch*BATCH_SIZE:(i_batch+1)*BATCH_SIZE].to_csv(\n",
    "#         '/n/holystore01/LABS/price_lab/Users/mjzhang/scTRS_data/gs_file/gwas_max_abs_z.top500.batch%d.gs'%i_batch,\n",
    "#                 sep='\\t', index=False)"
   ]
  },
  {
   "cell_type": "code",
   "execution_count": null,
   "metadata": {},
   "outputs": [],
   "source": [
    "# GENE_SCORE_PATH='/n/holystore01/LABS/price_lab/Users/mjzhang/scTRS_data/trs_gene_scores/gwas_max_abs_z'\n",
    "\n",
    "# # Top 100 GWAS genes \n",
    "# df_gs = pd.DataFrame(columns=['TRAIT', 'GENESET'])\n",
    "# for file in os.listdir(GENE_SCORE_PATH):\n",
    "#     trait=file.replace('.csv','')\n",
    "#     temp_df = pd.read_csv(join(GENE_SCORE_PATH, file), sep=',')\n",
    "#     temp_df = temp_df.loc[~temp_df['MAX_ABS_Z'].isna()]\n",
    "#     temp_df = temp_df.sort_values(by='MAX_ABS_Z', ascending=False)\n",
    "#     df_gs.loc[trait] = [trait,','.join(temp_df['GENE'][0:100])]\n",
    "# df_gs.to_csv('/n/holystore01/LABS/price_lab/Users/mjzhang/scTRS_data/gs_file/gwas_max_abs_z.top100.gs',\n",
    "#              sep='\\t', index=False)\n",
    "\n",
    "# BATCH_SIZE=5\n",
    "# for i_batch in range(np.ceil(df_gs.shape[0]/BATCH_SIZE).astype(int)):\n",
    "#     df_gs.iloc[i_batch*BATCH_SIZE:(i_batch+1)*BATCH_SIZE].to_csv(\n",
    "#         '/n/holystore01/LABS/price_lab/Users/mjzhang/scTRS_data/gs_file'\n",
    "#         '/gwas_max_abs_z.top100.gs.batch/gwas_max_abs_z.top100.batch%d.gs'%i_batch,\n",
    "#                 sep='\\t', index=False)"
   ]
  },
  {
   "cell_type": "code",
   "execution_count": 6,
   "metadata": {},
   "outputs": [],
   "source": [
    "# df_gs = pd.read_csv('/n/holystore01/LABS/price_lab/Users/mjzhang/scTRS_data/gs_file/magma_10kb_1000.gs',\n",
    "#                     sep='\\t')\n",
    "\n",
    "# BATCH_SIZE=3\n",
    "# for i_batch in range(np.ceil(df_gs.shape[0]/BATCH_SIZE).astype(int)):\n",
    "#     df_gs.iloc[i_batch*BATCH_SIZE:(i_batch+1)*BATCH_SIZE].to_csv(\n",
    "#         '/n/holystore01/LABS/price_lab/Users/mjzhang/scTRS_data/gs_file'\n",
    "#         '/magma_10kb_1000.gs.batch/magma_10kb_1000.batch%d.gs'%i_batch,\n",
    "#                 sep='\\t', index=False)"
   ]
  },
  {
   "cell_type": "code",
   "execution_count": 4,
   "metadata": {},
   "outputs": [],
   "source": [
    "# Make a small gs file containing the 60 analyzed traits \n",
    "df_gs = pd.read_csv('/n/holystore01/LABS/price_lab/Users/mjzhang/scTRS_data/gs_file/magma_10kb_1000.gs', sep='\\t')\n",
    "df_trait = pd.read_csv('/n/holystore01/LABS/price_lab/Users/mjzhang/scTRS_data/supp_table/trait_info.tsv', sep='\\t')\n",
    "\n",
    "df_gs_small = df_gs.loc[[x in df_trait['Trait_Identifier'].values for x in df_gs['TRAIT']]].copy()\n",
    "df_gs_small.to_csv('/n/holystore01/LABS/price_lab/Users/mjzhang/scTRS_data/gs_file/magma_10kb_1000.74_traits.gs',\n",
    "                   sep='\\t', index=False)\n",
    "\n",
    "BATCH_SIZE=3\n",
    "for i_batch in range(np.ceil(df_gs_small.shape[0]/BATCH_SIZE).astype(int)):\n",
    "    df_gs_small.iloc[i_batch*BATCH_SIZE:(i_batch+1)*BATCH_SIZE].to_csv(\n",
    "        '/n/holystore01/LABS/price_lab/Users/mjzhang/scTRS_data/gs_file'\n",
    "        '/magma_10kb_1000.74_traits.gs.batch/magma_10kb_1000.batch%d.gs'%i_batch,\n",
    "                sep='\\t', index=False)"
   ]
  },
  {
   "cell_type": "markdown",
   "metadata": {},
   "source": [
    "### Check unfinished files "
   ]
  },
  {
   "cell_type": "code",
   "execution_count": 5,
   "metadata": {},
   "outputs": [
    {
     "name": "stdout",
     "output_type": "stream",
     "text": [
      "UKB_460K.cov_EDU_COLLEGE\n",
      "PASS_DS\n",
      "UKB_460K.cancer_BREAST\n",
      "PASS_ProstateCancer\n"
     ]
    }
   ],
   "source": [
    "# # Check unfinished files \n",
    "# DATA_PATH='/n/holystore01/LABS/price_lab/Users/mjzhang/scTRS_data'\n",
    "# GS_FILE=DATA_PATH+'/gs_file/gwas_max_abs_z.top500.gs'\n",
    "# SCORE_FILE=DATA_PATH+'/score_file/score.tms_droplet_with_cov.gwas_max_abs_z.top500/@t.full_score.gz'\n",
    "\n",
    "# trait_list = []\n",
    "# df_gs = pd.read_csv(GS_FILE, sep='\\t', index_col=0)\n",
    "# for trait in df_gs.index:\n",
    "#     if os.path.exists(SCORE_FILE.replace('@t',trait)) is False:\n",
    "#         print(trait)\n",
    "#         trait_list.append(trait)\n",
    "        \n",
    "# df_gs.loc[trait_list].to_csv(DATA_PATH+'/gs_file/gwas_max_abs_z.top500.unfinished.gs', sep='\\t')"
   ]
  },
  {
   "cell_type": "code",
   "execution_count": 6,
   "metadata": {},
   "outputs": [
    {
     "name": "stdout",
     "output_type": "stream",
     "text": [
      "effector_vs_memory_cd8\n",
      "memory_vs_effector_cd8\n"
     ]
    }
   ],
   "source": [
    "# # Check unfinished files \n",
    "# DATA_PATH='/n/holystore01/LABS/price_lab/Users/mjzhang/scTRS_data'\n",
    "# GS_FILE=DATA_PATH+'/gs_file/tcell_signature.gs'\n",
    "# SCORE_FILE=DATA_PATH+'/score_file/score.tms_droplet_with_cov.tcell_sig/@t.full_score.gz'\n",
    "\n",
    "# trait_list = []\n",
    "# df_gs = pd.read_csv(GS_FILE, sep='\\t', index_col=0)\n",
    "# for trait in df_gs.index:\n",
    "#     if os.path.exists(SCORE_FILE.replace('@t',trait)) is False:\n",
    "#         print(trait)\n",
    "#         trait_list.append(trait)\n",
    "        \n",
    "# df_gs.loc[trait_list].to_csv(DATA_PATH+'/gs_file/tcell_signature.unfinished.gs', sep='\\t')"
   ]
  },
  {
   "cell_type": "code",
   "execution_count": 2,
   "metadata": {},
   "outputs": [],
   "source": [
    "# # Check unfinished files \n",
    "# DATA_PATH='/n/holystore01/LABS/price_lab/Users/mjzhang/scTRS_data'\n",
    "# GS_FILE=DATA_PATH+'/gs_file/gwas_max_abs_z.top500.gs'\n",
    "# SCORE_FILE=DATA_PATH+'/score_file/score.canogamez_with_cov.gwas_max_abs_z.top500/@t.full_score.gz'\n",
    "\n",
    "# trait_list = []\n",
    "# df_gs = pd.read_csv(GS_FILE, sep='\\t', index_col=0)\n",
    "# for trait in df_gs.index:\n",
    "#     if os.path.exists(SCORE_FILE.replace('@t',trait)) is False:\n",
    "#         print(trait)\n",
    "#         trait_list.append(trait)\n",
    "        \n",
    "# df_gs.loc[trait_list].to_csv(DATA_PATH+'/gs_file/gwas_max_abs_z.top500.unfinished.gs', sep='\\t')"
   ]
  },
  {
   "cell_type": "code",
   "execution_count": 2,
   "metadata": {},
   "outputs": [],
   "source": [
    "# Check unfinished files \n",
    "DATA_PATH='/n/holystore01/LABS/price_lab/Users/mjzhang/scTRS_data'\n",
    "GS_FILE=DATA_PATH+'/gs_file/magma_10kb_1000.60_traits.gs'\n",
    "SCORE_FILE=DATA_PATH+'/score_file/score.ts_facs_with_cov.magma_10kb_1000'\n",
    "\n",
    "trait_list = []\n",
    "df_gs = pd.read_csv(GS_FILE, sep='\\t', index_col=0)\n",
    "for trait in df_gs.index:\n",
    "    if os.path.exists(SCORE_FILE.replace('@t',trait)) is False:\n",
    "        print(trait)\n",
    "        trait_list.append(trait)\n",
    "        \n",
    "df_gs.loc[trait_list].to_csv(DATA_PATH+'/gs_file/magma_10kb_1000.60_traits.unfinished.gs', sep='\\t')"
   ]
  },
  {
   "cell_type": "code",
   "execution_count": 3,
   "metadata": {},
   "outputs": [],
   "source": [
    "df_gs = df_gs.loc[trait_list].copy()\n",
    "BATCH_SIZE=3\n",
    "for i_batch in range(np.ceil(df_gs.shape[0]/BATCH_SIZE).astype(int)):\n",
    "    df_gs.iloc[i_batch*BATCH_SIZE:(i_batch+1)*BATCH_SIZE].to_csv(\n",
    "        '/n/holystore01/LABS/price_lab/Users/mjzhang/scTRS_data/gs_file'\n",
    "        '/magma_10kb_1000.gs.batch/magma_10kb_1000.batch%d.unfinished.gs'%i_batch,\n",
    "                sep='\\t', index=True)"
   ]
  },
  {
   "cell_type": "code",
   "execution_count": null,
   "metadata": {},
   "outputs": [],
   "source": []
  }
 ],
 "metadata": {
  "kernelspec": {
   "display_name": "Python 3",
   "language": "python",
   "name": "python3"
  },
  "language_info": {
   "codemirror_mode": {
    "name": "ipython",
    "version": 3
   },
   "file_extension": ".py",
   "mimetype": "text/x-python",
   "name": "python",
   "nbconvert_exporter": "python",
   "pygments_lexer": "ipython3",
   "version": "3.7.2"
  }
 },
 "nbformat": 4,
 "nbformat_minor": 4
}
