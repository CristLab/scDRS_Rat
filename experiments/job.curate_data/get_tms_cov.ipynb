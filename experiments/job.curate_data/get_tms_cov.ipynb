{
 "cells": [
  {
   "cell_type": "code",
   "execution_count": 1,
   "metadata": {},
   "outputs": [],
   "source": [
    "import scanpy as sc\n",
    "from anndata import read_h5ad\n",
    "import pandas as pd\n",
    "import numpy as np\n",
    "import os\n",
    "from os.path import join\n",
    "import time\n",
    "import argparse\n",
    "\n",
    "# inhouse tools\n",
    "import scTRS.util as util\n",
    "import scTRS.data_loader as dl\n",
    "import scTRS.method as md\n",
    "\n",
    "#  autoreload\n",
    "%load_ext autoreload\n",
    "%autoreload 2"
   ]
  },
  {
   "cell_type": "code",
   "execution_count": 2,
   "metadata": {},
   "outputs": [],
   "source": [
    "# # tms_facs \n",
    "# H5AD_FILE='/n/holystore01/LABS/price_lab/Users/mjzhang/scTRS_data/tabula_muris_senis/'\\\n",
    "#             'tabula-muris-senis-facs-official-raw-obj.h5ad'\n",
    "# adata = read_h5ad(H5AD_FILE)\n",
    "# df_cov = pd.DataFrame(index=adata.obs.index)\n",
    "# df_cov['const'] = 1\n",
    "# df_cov['n_genes'] = adata.obs['n_genes']\n",
    "# df_cov['sex_male'] = (adata.obs['sex']=='male')*1\n",
    "# df_cov['age'] = [int(x.replace('m','')) for x in adata.obs['age']]\n",
    "# df_cov.to_csv('/n/holystore01/LABS/price_lab/Users/mjzhang/scTRS_data/tabula_muris_senis/tms_facs.cov', sep='\\t')"
   ]
  },
  {
   "cell_type": "code",
   "execution_count": 4,
   "metadata": {},
   "outputs": [],
   "source": [
    "# # tms_droplet\n",
    "# H5AD_FILE='/n/holystore01/LABS/price_lab/Users/mjzhang/scTRS_data/tabula_muris_senis/'\\\n",
    "#             'tabula-muris-senis-droplet-official-raw-obj.h5ad'\n",
    "# adata = read_h5ad(H5AD_FILE)\n",
    "# df_cov = pd.DataFrame(index=adata.obs.index)\n",
    "# df_cov['const'] = 1\n",
    "# df_cov['n_genes'] = adata.obs['n_genes']\n",
    "# df_cov['sex_male'] = (adata.obs['sex']=='male')*1\n",
    "# df_cov['age'] = [int(x.replace('m','')) for x in adata.obs['age']]\n",
    "# df_cov.to_csv('/n/holystore01/LABS/price_lab/Users/mjzhang/scTRS_data/tabula_muris_senis/tms_droplet.cov', sep='\\t')"
   ]
  },
  {
   "cell_type": "code",
   "execution_count": null,
   "metadata": {},
   "outputs": [],
   "source": []
  }
 ],
 "metadata": {
  "kernelspec": {
   "display_name": "Python 3",
   "language": "python",
   "name": "python3"
  },
  "language_info": {
   "codemirror_mode": {
    "name": "ipython",
    "version": 3
   },
   "file_extension": ".py",
   "mimetype": "text/x-python",
   "name": "python",
   "nbconvert_exporter": "python",
   "pygments_lexer": "ipython3",
   "version": "3.7.2"
  }
 },
 "nbformat": 4,
 "nbformat_minor": 4
}
