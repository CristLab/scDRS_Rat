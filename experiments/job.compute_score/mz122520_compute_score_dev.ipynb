{
 "cells": [
  {
   "cell_type": "code",
   "execution_count": 1,
   "metadata": {},
   "outputs": [],
   "source": [
    "import scanpy as sc\n",
    "import pandas as pd\n",
    "import numpy as np\n",
    "import scipy as sp\n",
    "from statsmodels.stats.multitest import multipletests\n",
    "import os\n",
    "from os.path import join\n",
    "import time\n",
    "\n",
    "from anndata import read_h5ad\n",
    "\n",
    "# scTRS tools\n",
    "import scTRS.util as util\n",
    "import scTRS.data_loader as dl\n",
    "import scTRS.method as md\n",
    "\n",
    "# autoreload\n",
    "%load_ext autoreload\n",
    "%autoreload 2"
   ]
  },
  {
   "cell_type": "markdown",
   "metadata": {},
   "source": [
    "### Make GS file "
   ]
  },
  {
   "cell_type": "code",
   "execution_count": 2,
   "metadata": {},
   "outputs": [],
   "source": [
    "# GENE_SCORE_PATH='/n/holystore01/LABS/price_lab/Users/mjzhang/scTRS_data/trs_gene_scores/gwas_max_abs_z'\n",
    "\n",
    "# # Top 500 GWAS genes \n",
    "# df_gs = pd.DataFrame(columns=['TRAIT', 'GENESET'])\n",
    "# for file in os.listdir(GENE_SCORE_PATH):\n",
    "#     trait=file.replace('.csv','')\n",
    "#     temp_df = pd.read_csv(join(GENE_SCORE_PATH, file), sep=',')\n",
    "#     temp_df = temp_df.loc[~temp_df['MAX_ABS_Z'].isna()]\n",
    "#     temp_df = temp_df.sort_values(by='MAX_ABS_Z', ascending=False)\n",
    "#     df_gs.loc[trait] = [trait,','.join(temp_df['GENE'][0:500])]\n",
    "# df_gs.to_csv('/n/holystore01/LABS/price_lab/Users/mjzhang/scTRS_data/gs_file/gwas_max_abs_z.top500.gs',\n",
    "#              sep='\\t', index=False)\n",
    "\n",
    "# BATCH_SIZE=5\n",
    "# for i_batch in range(np.ceil(df_gs.shape[0]/BATCH_SIZE).astype(int)):\n",
    "#     df_gs.iloc[i_batch*BATCH_SIZE:(i_batch+1)*BATCH_SIZE].to_csv(\n",
    "#         '/n/holystore01/LABS/price_lab/Users/mjzhang/scTRS_data/gs_file/gwas_max_abs_z.top500.batch%d.gs'%i_batch,\n",
    "#                 sep='\\t', index=False)"
   ]
  },
  {
   "cell_type": "markdown",
   "metadata": {},
   "source": [
    "### Load data "
   ]
  },
  {
   "cell_type": "code",
   "execution_count": 2,
   "metadata": {},
   "outputs": [],
   "source": [
    "H5AD_FILE='/n/holystore01/LABS/price_lab/Users/mjzhang/scTRS_data/tabula_muris_senis/'\\\n",
    "            'tabula-muris-senis-facs-official-raw-obj.h5ad'\n",
    "GS_FILE='/n/holystore01/LABS/price_lab/Users/mjzhang/scTRS_data/gs_file/gwas_max_abs_z.top500.gs'\n",
    "GS_FILE='/n/holystore01/LABS/price_lab/Users/mjzhang/scTRS_data/gs_file_null/null.all_size500.batch0.gs'\n",
    "FLAG_FILTER=True\n",
    "FLAG_RAW_COUNT=True\n",
    "FLAG_MOUSE_DATA=True\n",
    "FLAG_RETURN_CTRL_RAW_SCORE=False\n",
    "FLAG_RETURN_CTRL_NORM_SCORE=False\n",
    "# OUT_FOLDER='/n/holystore01/LABS/price_lab/Users/mjzhang/scTRS_data/score_file/score.gwas_max_abs_z.top500'"
   ]
  },
  {
   "cell_type": "code",
   "execution_count": 3,
   "metadata": {},
   "outputs": [],
   "source": [
    "# Load .h5ad file \n",
    "adata = read_h5ad(H5AD_FILE)\n",
    "if FLAG_FILTER:\n",
    "    sc.pp.filter_cells(adata, min_genes=250)\n",
    "    sc.pp.filter_genes(adata, min_cells=10)\n",
    "if FLAG_RAW_COUNT:\n",
    "    sc.pp.normalize_per_cell(adata, counts_per_cell_after=1e4)\n",
    "    sc.pp.log1p(adata)"
   ]
  },
  {
   "cell_type": "code",
   "execution_count": 4,
   "metadata": {},
   "outputs": [],
   "source": [
    "# Load .gs file \n",
    "df_gs = pd.read_csv(GS_FILE, sep='\\t')\n",
    "df_gs.index = df_gs['TRAIT']\n",
    "\n",
    "# Covert to mouse data \n",
    "if FLAG_MOUSE_DATA:\n",
    "    # Load homolog file \n",
    "    df_hom = pd.read_csv('/n/holystore01/LABS/price_lab/Users/mjzhang/scTRS_data/gene_annotation/'\n",
    "                         'mouse_human_homologs.txt', sep='\\t')\n",
    "    dic_map = {x:y for x,y in zip(df_hom['HUMAN_GENE_SYM'], df_hom['MOUSE_GENE_SYM'])}\n",
    "    for trait in df_gs.index:\n",
    "        human_gene_list = df_gs.loc[trait, 'GENESET'].split(',')\n",
    "        mouse_gene_list = [dic_map[x] for x in set(human_gene_list)&set(dic_map.keys())]\n",
    "        df_gs.loc[trait, 'GENESET'] = ','.join(mouse_gene_list)"
   ]
  },
  {
   "cell_type": "code",
   "execution_count": 5,
   "metadata": {},
   "outputs": [
    {
     "data": {
      "text/html": [
       "<div>\n",
       "<style scoped>\n",
       "    .dataframe tbody tr th:only-of-type {\n",
       "        vertical-align: middle;\n",
       "    }\n",
       "\n",
       "    .dataframe tbody tr th {\n",
       "        vertical-align: top;\n",
       "    }\n",
       "\n",
       "    .dataframe thead th {\n",
       "        text-align: right;\n",
       "    }\n",
       "</style>\n",
       "<table border=\"1\" class=\"dataframe\">\n",
       "  <thead>\n",
       "    <tr style=\"text-align: right;\">\n",
       "      <th></th>\n",
       "      <th>TRAIT</th>\n",
       "      <th>GENESET</th>\n",
       "    </tr>\n",
       "    <tr>\n",
       "      <th>TRAIT</th>\n",
       "      <th></th>\n",
       "      <th></th>\n",
       "    </tr>\n",
       "  </thead>\n",
       "  <tbody>\n",
       "    <tr>\n",
       "      <th>all_size500_rep0</th>\n",
       "      <td>all_size500_rep0</td>\n",
       "      <td>F5</td>\n",
       "    </tr>\n",
       "    <tr>\n",
       "      <th>all_size500_rep1</th>\n",
       "      <td>all_size500_rep1</td>\n",
       "      <td></td>\n",
       "    </tr>\n",
       "    <tr>\n",
       "      <th>all_size500_rep2</th>\n",
       "      <td>all_size500_rep2</td>\n",
       "      <td></td>\n",
       "    </tr>\n",
       "    <tr>\n",
       "      <th>all_size500_rep3</th>\n",
       "      <td>all_size500_rep3</td>\n",
       "      <td>F9</td>\n",
       "    </tr>\n",
       "    <tr>\n",
       "      <th>all_size500_rep4</th>\n",
       "      <td>all_size500_rep4</td>\n",
       "      <td></td>\n",
       "    </tr>\n",
       "    <tr>\n",
       "      <th>all_size500_rep5</th>\n",
       "      <td>all_size500_rep5</td>\n",
       "      <td></td>\n",
       "    </tr>\n",
       "    <tr>\n",
       "      <th>all_size500_rep6</th>\n",
       "      <td>all_size500_rep6</td>\n",
       "      <td>F8</td>\n",
       "    </tr>\n",
       "    <tr>\n",
       "      <th>all_size500_rep7</th>\n",
       "      <td>all_size500_rep7</td>\n",
       "      <td>F3</td>\n",
       "    </tr>\n",
       "    <tr>\n",
       "      <th>all_size500_rep8</th>\n",
       "      <td>all_size500_rep8</td>\n",
       "      <td></td>\n",
       "    </tr>\n",
       "    <tr>\n",
       "      <th>all_size500_rep9</th>\n",
       "      <td>all_size500_rep9</td>\n",
       "      <td></td>\n",
       "    </tr>\n",
       "    <tr>\n",
       "      <th>all_size500_rep10</th>\n",
       "      <td>all_size500_rep10</td>\n",
       "      <td></td>\n",
       "    </tr>\n",
       "    <tr>\n",
       "      <th>all_size500_rep11</th>\n",
       "      <td>all_size500_rep11</td>\n",
       "      <td>C2</td>\n",
       "    </tr>\n",
       "    <tr>\n",
       "      <th>all_size500_rep12</th>\n",
       "      <td>all_size500_rep12</td>\n",
       "      <td></td>\n",
       "    </tr>\n",
       "    <tr>\n",
       "      <th>all_size500_rep13</th>\n",
       "      <td>all_size500_rep13</td>\n",
       "      <td>F5</td>\n",
       "    </tr>\n",
       "    <tr>\n",
       "      <th>all_size500_rep14</th>\n",
       "      <td>all_size500_rep14</td>\n",
       "      <td>C7</td>\n",
       "    </tr>\n",
       "    <tr>\n",
       "      <th>all_size500_rep15</th>\n",
       "      <td>all_size500_rep15</td>\n",
       "      <td></td>\n",
       "    </tr>\n",
       "    <tr>\n",
       "      <th>all_size500_rep16</th>\n",
       "      <td>all_size500_rep16</td>\n",
       "      <td>F2</td>\n",
       "    </tr>\n",
       "    <tr>\n",
       "      <th>all_size500_rep17</th>\n",
       "      <td>all_size500_rep17</td>\n",
       "      <td></td>\n",
       "    </tr>\n",
       "    <tr>\n",
       "      <th>all_size500_rep18</th>\n",
       "      <td>all_size500_rep18</td>\n",
       "      <td></td>\n",
       "    </tr>\n",
       "    <tr>\n",
       "      <th>all_size500_rep19</th>\n",
       "      <td>all_size500_rep19</td>\n",
       "      <td></td>\n",
       "    </tr>\n",
       "  </tbody>\n",
       "</table>\n",
       "</div>"
      ],
      "text/plain": [
       "                               TRAIT GENESET\n",
       "TRAIT                                       \n",
       "all_size500_rep0    all_size500_rep0      F5\n",
       "all_size500_rep1    all_size500_rep1        \n",
       "all_size500_rep2    all_size500_rep2        \n",
       "all_size500_rep3    all_size500_rep3      F9\n",
       "all_size500_rep4    all_size500_rep4        \n",
       "all_size500_rep5    all_size500_rep5        \n",
       "all_size500_rep6    all_size500_rep6      F8\n",
       "all_size500_rep7    all_size500_rep7      F3\n",
       "all_size500_rep8    all_size500_rep8        \n",
       "all_size500_rep9    all_size500_rep9        \n",
       "all_size500_rep10  all_size500_rep10        \n",
       "all_size500_rep11  all_size500_rep11      C2\n",
       "all_size500_rep12  all_size500_rep12        \n",
       "all_size500_rep13  all_size500_rep13      F5\n",
       "all_size500_rep14  all_size500_rep14      C7\n",
       "all_size500_rep15  all_size500_rep15        \n",
       "all_size500_rep16  all_size500_rep16      F2\n",
       "all_size500_rep17  all_size500_rep17        \n",
       "all_size500_rep18  all_size500_rep18        \n",
       "all_size500_rep19  all_size500_rep19        "
      ]
     },
     "execution_count": 5,
     "metadata": {},
     "output_type": "execute_result"
    }
   ],
   "source": [
    "df_gs"
   ]
  },
  {
   "cell_type": "code",
   "execution_count": null,
   "metadata": {},
   "outputs": [],
   "source": []
  },
  {
   "cell_type": "code",
   "execution_count": 17,
   "metadata": {},
   "outputs": [],
   "source": [
    "# Compute score \n",
    "for trait in df_gs.index:\n",
    "    gene_list = df_gs.loc[trait,'GENESET'].split(',')\n",
    "    df_res = md.score_cell(adata, gene_list, n_ctrl=5, \n",
    "                           return_ctrl_raw_score=FLAG_RETURN_CTRL_RAW_SCORE, \n",
    "                           return_ctrl_norm_score=FLAG_RETURN_CTRL_NORM_SCORE,\n",
    "                           verbose=False)\n",
    "    df_res.to_csv(join(OUT_FOLDER, '%s.score.gz'%trait), sep='\\t', index=True, compression='gzip')\n",
    "    break"
   ]
  },
  {
   "cell_type": "code",
   "execution_count": 22,
   "metadata": {},
   "outputs": [],
   "source": [
    "df_res.to_csv(join(OUT_FOLDER, '%s.score.gz'%trait), sep='\\t', index=True, compression='gzip')"
   ]
  },
  {
   "cell_type": "code",
   "execution_count": null,
   "metadata": {},
   "outputs": [],
   "source": []
  },
  {
   "cell_type": "code",
   "execution_count": 36,
   "metadata": {},
   "outputs": [],
   "source": [
    "# Setup file paths\n",
    "DATA_PATH='/n/holystore01/LABS/price_lab/Users/mjzhang/scTRS_data'\n",
    "GENE_SCORE_PATH=join(DATA_PATH, 'trs_gene_scores/gwas_max_abs_z')\n",
    "GENE_ANNOT_PATH=join(DATA_PATH, 'gene_annotation')\n"
   ]
  },
  {
   "cell_type": "code",
   "execution_count": 32,
   "metadata": {},
   "outputs": [
    {
     "name": "stderr",
     "output_type": "stream",
     "text": [
      "Trying to set attribute `.obs` of view, copying.\n"
     ]
    },
    {
     "name": "stdout",
     "output_type": "stream",
     "text": [
      "# TMS facs count data: n_cell=110096, n_gene=22966\n"
     ]
    }
   ],
   "source": [
    "# Count data (used for scoring genes)\n",
    "score_dataset = dl.load_tms_ct(DATA_PATH, data_name='facs')\n",
    "print('# TMS facs count data: n_cell=%d, n_gene=%d'\n",
    "      %(score_dataset.shape[0], score_dataset.shape[1]))"
   ]
  },
  {
   "cell_type": "code",
   "execution_count": 37,
   "metadata": {},
   "outputs": [],
   "source": [
    "# Trait gene sets \n",
    "\n",
    "df_gs = pd.DataFrame(columns=['TRAIT', 'GENESET'])\n",
    "for file in os.listdir(GENE_SCORE_PATH):\n",
    "    df = pd.read_csv(join(GENE_SCORE_PATH, file), sep=',')\n",
    "    dic_gs[]"
   ]
  },
  {
   "cell_type": "code",
   "execution_count": 38,
   "metadata": {},
   "outputs": [
    {
     "data": {
      "text/html": [
       "<div>\n",
       "<style scoped>\n",
       "    .dataframe tbody tr th:only-of-type {\n",
       "        vertical-align: middle;\n",
       "    }\n",
       "\n",
       "    .dataframe tbody tr th {\n",
       "        vertical-align: top;\n",
       "    }\n",
       "\n",
       "    .dataframe thead th {\n",
       "        text-align: right;\n",
       "    }\n",
       "</style>\n",
       "<table border=\"1\" class=\"dataframe\">\n",
       "  <thead>\n",
       "    <tr style=\"text-align: right;\">\n",
       "      <th></th>\n",
       "      <th>GENE</th>\n",
       "      <th>MAX_ABS_Z</th>\n",
       "    </tr>\n",
       "  </thead>\n",
       "  <tbody>\n",
       "    <tr>\n",
       "      <th>0</th>\n",
       "      <td>OR4F5</td>\n",
       "      <td>NaN</td>\n",
       "    </tr>\n",
       "    <tr>\n",
       "      <th>1</th>\n",
       "      <td>LOC100996442</td>\n",
       "      <td>NaN</td>\n",
       "    </tr>\n",
       "    <tr>\n",
       "      <th>2</th>\n",
       "      <td>OR4F29</td>\n",
       "      <td>NaN</td>\n",
       "    </tr>\n",
       "    <tr>\n",
       "      <th>3</th>\n",
       "      <td>OR4F16</td>\n",
       "      <td>NaN</td>\n",
       "    </tr>\n",
       "    <tr>\n",
       "      <th>4</th>\n",
       "      <td>SAMD11</td>\n",
       "      <td>NaN</td>\n",
       "    </tr>\n",
       "    <tr>\n",
       "      <th>...</th>\n",
       "      <td>...</td>\n",
       "      <td>...</td>\n",
       "    </tr>\n",
       "    <tr>\n",
       "      <th>18570</th>\n",
       "      <td>ZMYND19</td>\n",
       "      <td>1.142</td>\n",
       "    </tr>\n",
       "    <tr>\n",
       "      <th>18571</th>\n",
       "      <td>ARRDC1</td>\n",
       "      <td>1.459</td>\n",
       "    </tr>\n",
       "    <tr>\n",
       "      <th>18572</th>\n",
       "      <td>EHMT1</td>\n",
       "      <td>2.236</td>\n",
       "    </tr>\n",
       "    <tr>\n",
       "      <th>18573</th>\n",
       "      <td>CACNA1B</td>\n",
       "      <td>1.958</td>\n",
       "    </tr>\n",
       "    <tr>\n",
       "      <th>18574</th>\n",
       "      <td>FAM157B</td>\n",
       "      <td>NaN</td>\n",
       "    </tr>\n",
       "  </tbody>\n",
       "</table>\n",
       "<p>18575 rows × 2 columns</p>\n",
       "</div>"
      ],
      "text/plain": [
       "               GENE  MAX_ABS_Z\n",
       "0             OR4F5        NaN\n",
       "1      LOC100996442        NaN\n",
       "2            OR4F29        NaN\n",
       "3            OR4F16        NaN\n",
       "4            SAMD11        NaN\n",
       "...             ...        ...\n",
       "18570       ZMYND19      1.142\n",
       "18571        ARRDC1      1.459\n",
       "18572         EHMT1      2.236\n",
       "18573       CACNA1B      1.958\n",
       "18574       FAM157B        NaN\n",
       "\n",
       "[18575 rows x 2 columns]"
      ]
     },
     "execution_count": 38,
     "metadata": {},
     "output_type": "execute_result"
    }
   ],
   "source": [
    "df"
   ]
  },
  {
   "cell_type": "code",
   "execution_count": null,
   "metadata": {},
   "outputs": [],
   "source": []
  },
  {
   "cell_type": "code",
   "execution_count": 23,
   "metadata": {},
   "outputs": [
    {
     "name": "stderr",
     "output_type": "stream",
     "text": [
      "/n/holystore01/LABS/price_lab/Users/mjzhang/myenv_gf/lib/python3.7/site-packages/ipykernel_launcher.py:1: DeprecationWarning: elementwise comparison failed; this will raise an error in the future.\n",
      "  \"\"\"Entry point for launching an IPython kernel.\n"
     ]
    },
    {
     "ename": "AttributeError",
     "evalue": "'bool' object has no attribute 'sum'",
     "output_type": "error",
     "traceback": [
      "\u001b[0;31m---------------------------------------------------------------------------\u001b[0m",
      "\u001b[0;31mAttributeError\u001b[0m                            Traceback (most recent call last)",
      "\u001b[0;32m<ipython-input-23-4d33ffb71ec3>\u001b[0m in \u001b[0;36m<module>\u001b[0;34m\u001b[0m\n\u001b[0;32m----> 1\u001b[0;31m \u001b[0;34m(\u001b[0m\u001b[0mtemp_df1\u001b[0m\u001b[0;34m.\u001b[0m\u001b[0mloc\u001b[0m\u001b[0;34m[\u001b[0m\u001b[0mgene_list\u001b[0m\u001b[0;34m]\u001b[0m\u001b[0;34m[\u001b[0m\u001b[0;34m'hsapiens'\u001b[0m\u001b[0;34m]\u001b[0m\u001b[0;34m.\u001b[0m\u001b[0mvalues\u001b[0m\u001b[0;34m!=\u001b[0m\u001b[0mtemp_df\u001b[0m\u001b[0;34m.\u001b[0m\u001b[0mloc\u001b[0m\u001b[0;34m[\u001b[0m\u001b[0mgene_list\u001b[0m\u001b[0;34m]\u001b[0m\u001b[0;34m[\u001b[0m\u001b[0;34m'HUMAN_GENE_SYM'\u001b[0m\u001b[0;34m]\u001b[0m\u001b[0;34m.\u001b[0m\u001b[0mvalues\u001b[0m\u001b[0;34m)\u001b[0m\u001b[0;34m.\u001b[0m\u001b[0msum\u001b[0m\u001b[0;34m(\u001b[0m\u001b[0;34m)\u001b[0m\u001b[0;34m\u001b[0m\u001b[0;34m\u001b[0m\u001b[0m\n\u001b[0m",
      "\u001b[0;31mAttributeError\u001b[0m: 'bool' object has no attribute 'sum'"
     ]
    }
   ],
   "source": [
    "(temp_df1.loc[gene_list]['hsapiens'].values!=temp_df.loc[gene_list]['HUMAN_GENE_SYM'].values).sum()"
   ]
  },
  {
   "cell_type": "code",
   "execution_count": 26,
   "metadata": {},
   "outputs": [
    {
     "data": {
      "text/plain": [
       "(15158,)"
      ]
     },
     "execution_count": 26,
     "metadata": {},
     "output_type": "execute_result"
    }
   ],
   "source": [
    "temp_df1.loc[gene_list]['hsapiens'].values.shape"
   ]
  },
  {
   "cell_type": "code",
   "execution_count": 27,
   "metadata": {},
   "outputs": [
    {
     "data": {
      "text/plain": [
       "(14975,)"
      ]
     },
     "execution_count": 27,
     "metadata": {},
     "output_type": "execute_result"
    }
   ],
   "source": [
    "temp_df.loc[gene_list]['HUMAN_GENE_SYM'].values.shape"
   ]
  },
  {
   "cell_type": "code",
   "execution_count": 28,
   "metadata": {},
   "outputs": [
    {
     "data": {
      "text/plain": [
       "14975"
      ]
     },
     "execution_count": 28,
     "metadata": {},
     "output_type": "execute_result"
    }
   ],
   "source": [
    "len(gene_list)"
   ]
  },
  {
   "cell_type": "code",
   "execution_count": null,
   "metadata": {},
   "outputs": [],
   "source": []
  }
 ],
 "metadata": {
  "kernelspec": {
   "display_name": "Python 3",
   "language": "python",
   "name": "python3"
  },
  "language_info": {
   "codemirror_mode": {
    "name": "ipython",
    "version": 3
   },
   "file_extension": ".py",
   "mimetype": "text/x-python",
   "name": "python",
   "nbconvert_exporter": "python",
   "pygments_lexer": "ipython3",
   "version": "3.7.2"
  }
 },
 "nbformat": 4,
 "nbformat_minor": 4
}
