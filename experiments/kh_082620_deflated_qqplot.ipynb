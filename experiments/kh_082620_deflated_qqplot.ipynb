{
 "cells": [
  {
   "cell_type": "code",
   "execution_count": 1,
   "metadata": {},
   "outputs": [
    {
     "name": "stdout",
     "output_type": "stream",
     "text": [
      "scanpy==1.5.1 anndata==0.7.4 umap==0.4.6 numpy==1.19.0 scipy==1.5.1 pandas==1.0.5 scikit-learn==0.23.1 statsmodels==0.11.1\n"
     ]
    }
   ],
   "source": [
    "import scanpy as sc\n",
    "import pandas as pd\n",
    "import numpy as np\n",
    "import scipy as sp\n",
    "from statsmodels.stats.multitest import multipletests\n",
    "import matplotlib.pyplot as plt\n",
    "import seaborn as sns\n",
    "import os\n",
    "import time\n",
    "from gprofiler import GProfiler\n",
    "from scipy.stats import rankdata\n",
    "\n",
    "# scTRS tools\n",
    "import scTRS.util as util\n",
    "import scTRS.data_loader as dl\n",
    "import scTRS.method as md\n",
    "\n",
    "# autoreload\n",
    "%load_ext autoreload\n",
    "%autoreload 2\n",
    "# logging\n",
    "sc.logging.print_versions()"
   ]
  },
  {
   "cell_type": "code",
   "execution_count": 2,
   "metadata": {},
   "outputs": [
    {
     "name": "stderr",
     "output_type": "stream",
     "text": [
      "Trying to set attribute `.obs` of view, copying.\n"
     ]
    },
    {
     "name": "stdout",
     "output_type": "stream",
     "text": [
      "# TMS facs count data: n_cell=110096, n_gene=22953\n",
      "# time=17.2s\n"
     ]
    }
   ],
   "source": [
    "#### Setup file paths\n",
    "DATA_PATH = '/n/holystore01/LABS/price_lab/Users/mjzhang/scTRS_data'\n",
    "# Please change this to your own path\n",
    "RESULT_PATH = '/n/home12/khou/scTRS_results/'\n",
    "\n",
    "# Count data (used for scoring genes)\n",
    "start_time = time.time()\n",
    "data_facs_ct = dl.load_tms_ct(DATA_PATH, data_name='facs', flag_scale=False, flag_filter_genes=True)\n",
    "print('# TMS facs count data: n_cell=%d, n_gene=%d'\n",
    "      %(data_facs_ct.shape[0], data_facs_ct.shape[1]))\n",
    "print('# time=%0.1fs'%(time.time() - start_time))\n"
   ]
  },
  {
   "cell_type": "code",
   "execution_count": 3,
   "metadata": {},
   "outputs": [],
   "source": [
    "# Genearate null gene sets\n",
    "np.random.seed(0)\n",
    "dic_trait_geneset = {}\n",
    "gs_size_list = [20, 50, 200, 500]\n",
    "n_rep = 10\n",
    "\n",
    "df_gene = pd.DataFrame(index=data_facs_ct.var_names)\n",
    "df_gene['mean'] = data_facs_ct.X.mean(axis=0).T\n",
    "df_gene = df_gene.sort_values(by=['mean'])\n",
    "\n",
    "for n_gene in gs_size_list:\n",
    "    for i_rep in np.arange(n_rep):\n",
    "        \n",
    "        # Highly expressed\n",
    "        ind_select = np.random.permutation(2000)[:n_gene]\n",
    "        dic_trait_geneset['null_size%d_rep%d'%(n_gene,i_rep)] =  list(df_gene.index[-2000:][ind_select])"
   ]
  },
  {
   "cell_type": "code",
   "execution_count": 4,
   "metadata": {},
   "outputs": [],
   "source": [
    "# precompute some statistics\n",
    "adata = data_facs_ct.copy()\n",
    "mean, var = util.get_sparse_var(adata.X, axis=0)\n",
    "adata.var['mean'] = mean\n",
    "adata.var['var'] = var\n",
    "adata.var['mean_rank'] = rankdata(adata.var['mean'], method='ordinal') - 1\n",
    "\n",
    "mean, var = util.get_sparse_var(adata.X, axis=1)\n",
    "adata.obs['mean'] = mean\n",
    "adata.obs['var'] = var"
   ]
  },
  {
   "cell_type": "code",
   "execution_count": 5,
   "metadata": {},
   "outputs": [],
   "source": [
    "null_trait_list = [x for x in dic_trait_geneset.keys() if 'null_size50_' in x]"
   ]
  },
  {
   "cell_type": "code",
   "execution_count": 9,
   "metadata": {},
   "outputs": [],
   "source": [
    "def match_marginal_distribution(x, target, method='full'):\n",
    "    \"\"\"\n",
    "    match marginal distribution of `x` according to the reference `target`\n",
    "    \n",
    "    Params:\n",
    "        x: 1d array\n",
    "        target: 1d array\n",
    "        \n",
    "        x and target are assumed to have the same length for now\n",
    "    \"\"\"\n",
    "    assert(len(x) == len(target))\n",
    "    assert (method in ['full']), \"Only [full] is supported\"\n",
    "    x_transformed = np.zeros_like(x)\n",
    "    rn1 = np.random.random(x.size)\n",
    "    rn2 = np.random.random(x.size)\n",
    "    # ties get randomly assigned\n",
    "    x_transformed[np.lexsort((rn1, x))] = target[np.lexsort((rn2, target))]\n",
    "    # x_transformed[np.argsort(x)] = target[np.argsort(target)]\n",
    "    return x_transformed\n",
    "\n",
    "def generate_null_genes(adata, gene_list, match_criterion='mean_equal', num_rep=1, random_width=10):\n",
    "    \"\"\"\n",
    "        Generate null gene set\n",
    "        adata: AnnData\n",
    "        gene_list: original gene list, should be a list of gene names\n",
    "        match_criterion: One of 'mean_equal', 'mean_inflate'\n",
    "        num_rep: for every gene in the gene list, how many replicated.\n",
    "        return a list of null genes\n",
    "    \"\"\"\n",
    "    temp_df = adata.var[['mean', 'var', 'mean_rank']].copy()\n",
    "    temp_df = temp_df.sort_values('mean_rank')\n",
    "    \n",
    "    assert (match_criterion in ['mean_equal', 'mean_equal_near_var']), \"method must be in [mean_equal, mean_equal_near_var]\"\n",
    "    \n",
    "    if match_criterion == 'mean_equal' or match_criterion == 'mean_equal_near_var':\n",
    "        random_range = np.concatenate([np.arange(-random_width, 0), np.arange(1, random_width + 1)])\n",
    "    \n",
    "    # ordered gene_list\n",
    "    gene_list_rank = temp_df.loc[gene_list, 'mean_rank'].values\n",
    "    gene_list_null = []\n",
    "    \n",
    "    for rank in gene_list_rank:\n",
    "        search_range = rank + random_range\n",
    "        search_range = search_range[(0 <= search_range) & (search_range < len(adata.var_names))]\n",
    "        choices = set(search_range) - set(gene_list_rank) - set(gene_list_null)\n",
    "        \n",
    "        mean_matched_df = temp_df.iloc[list(choices), :]\n",
    "        if match_criterion == 'mean_equal':\n",
    "            null_genes = np.random.choice(mean_matched_df['mean_rank'], replace=False, size=num_rep)\n",
    "            \n",
    "        elif match_criterion == 'mean_equal_near_var':\n",
    "            null_genes = mean_matched_df['mean_rank'][(mean_matched_df['var'] - temp_df.iloc[rank]['var']).abs().argsort()[0 : num_rep]].values\n",
    "        \n",
    "        gene_list_null.extend(null_genes)\n",
    "    \n",
    "    # double check no replicates\n",
    "    assert(len(set(gene_list_null)) == len(gene_list_null))\n",
    "    gene_list_null = np.array(gene_list_null).reshape(len(gene_list), num_rep)\n",
    "\n",
    "    gene_list_null = [temp_df.index[gene_list_null[:, rep_i]] for rep_i in range(num_rep)]\n",
    "    \n",
    "    return gene_list_null\n",
    "\n",
    "def generate_dist(\n",
    "               adata, \n",
    "               trait_gene_list,\n",
    "               null_gene_list,\n",
    "               flag_correct_background=False):\n",
    "    \n",
    "    trait_trs = adata[:, trait_gene_list].X.mean(axis=1).A1\n",
    "    trs_X = adata[:, trait_gene_list].X.toarray()\n",
    "\n",
    "    null_X = adata[:, null_gene_list].X.toarray()\n",
    "    # for each null gene\n",
    "    for gene_i in range(null_X.shape[1]):\n",
    "        null_X[:, gene_i] = match_marginal_distribution(x=null_X[:, gene_i], target = trs_X[:, gene_i])\n",
    "    null_trs = null_X.mean(axis=1)\n",
    "\n",
    "    # Cell background correction\n",
    "    if flag_correct_background:\n",
    "        v_mean, v_var = adata.obs['mean'].values, adata.obs['var'].values\n",
    "        v_std = np.sqrt(v_var)\n",
    "        trait_trs = (trait_trs - v_mean) / v_std * \\\n",
    "                                np.sqrt(len(trait_gene_list))\n",
    "        null_trs = (null_trs - v_mean) / v_std * \\\n",
    "                                np.sqrt(len(null_gene_list))\n",
    "    return trait_trs, null_trs"
   ]
  },
  {
   "cell_type": "code",
   "execution_count": 7,
   "metadata": {},
   "outputs": [],
   "source": [
    "# generate null gene set\n",
    "np.random.seed(0)\n",
    "dic_null_geneset = dict()\n",
    "for trait in null_trait_list:\n",
    "    gene_list = dic_trait_geneset[trait]\n",
    "    dic_null_geneset[trait] = generate_null_genes(adata, gene_list, match_criterion='mean_equal', num_rep=1)[0].values"
   ]
  },
  {
   "cell_type": "code",
   "execution_count": 10,
   "metadata": {},
   "outputs": [
    {
     "data": {
      "image/png": "[encoded data removed]",
      "text/plain": [
       "<Figure size 360x360 with 1 Axes>"
      ]
     },
     "metadata": {
      "needs_background": "light"
     },
     "output_type": "display_data"
    }
   ],
   "source": [
    "plt.figure(figsize=(5, 5))\n",
    "for trait in null_trait_list:\n",
    "    trait_gene_list = dic_trait_geneset[trait]\n",
    "    null_gene_list = dic_null_geneset[trait]\n",
    "    trait_trs, null_trs = generate_dist(adata, trait_gene_list, null_gene_list)\n",
    "    \n",
    "    trait_trs = (trait_trs - trait_trs.mean()) / trait_trs.std()\n",
    "    null_trs = (null_trs - null_trs.mean()) / null_trs.std()\n",
    "        \n",
    "    empi_pval = md.get_p_from_empi_null(trait_trs, null_trs)\n",
    "    empi_logpval = -np.log10(empi_pval)\n",
    "\n",
    "    normal_pval = np.random.rand(10000)\n",
    "    normal_logpval = -np.log10(normal_pval)\n",
    "    util.qqplot(x=normal_logpval, y=empi_logpval, quantiles=2000, s=3, alpha=0.5)\n",
    "plt.axline((1, 1), slope=1, linestyle='--', color='k', alpha=0.5)\n",
    "plt.show()"
   ]
  },
  {
   "cell_type": "code",
   "execution_count": 11,
   "metadata": {},
   "outputs": [
    {
     "data": {
      "image/png": "[encoded data removed]",
      "text/plain": [
       "<Figure size 360x360 with 1 Axes>"
      ]
     },
     "metadata": {
      "needs_background": "light"
     },
     "output_type": "display_data"
    }
   ],
   "source": [
    "# switched trait gene set and null gene set\n",
    "dic_null_geneset, dic_trait_geneset = dic_trait_geneset, dic_null_geneset\n",
    "\n",
    "plt.figure(figsize=(5, 5))\n",
    "for trait in null_trait_list:\n",
    "    trait_gene_list = dic_trait_geneset[trait]\n",
    "    null_gene_list = dic_null_geneset[trait]\n",
    "    trait_trs, null_trs = generate_dist(adata, trait_gene_list, null_gene_list)\n",
    "    \n",
    "    trait_trs = (trait_trs - trait_trs.mean()) / trait_trs.std()\n",
    "    null_trs = (null_trs - null_trs.mean()) / null_trs.std()\n",
    "        \n",
    "    empi_pval = md.get_p_from_empi_null(trait_trs, null_trs)\n",
    "    empi_logpval = -np.log10(empi_pval)\n",
    "\n",
    "    normal_pval = np.random.rand(10000)\n",
    "    normal_logpval = -np.log10(normal_pval)\n",
    "    util.qqplot(x=normal_logpval, y=empi_logpval, quantiles=2000, s=3, alpha=0.5)\n",
    "plt.axline((1, 1), slope=1, linestyle='--', color='k', alpha=0.5)\n",
    "plt.show()"
   ]
  },
  {
   "cell_type": "code",
   "execution_count": null,
   "metadata": {},
   "outputs": [],
   "source": []
  }
 ],
 "metadata": {
  "kernelspec": {
   "display_name": "Python 3",
   "language": "python",
   "name": "python3"
  },
  "language_info": {
   "codemirror_mode": {
    "name": "ipython",
    "version": 3
   },
   "file_extension": ".py",
   "mimetype": "text/x-python",
   "name": "python",
   "nbconvert_exporter": "python",
   "pygments_lexer": "ipython3",
   "version": "3.6.5"
  }
 },
 "nbformat": 4,
 "nbformat_minor": 2
}
