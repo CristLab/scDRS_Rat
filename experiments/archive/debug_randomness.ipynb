{
 "cells": [
  {
   "cell_type": "code",
   "execution_count": 1,
   "metadata": {},
   "outputs": [
    {
     "name": "stdout",
     "output_type": "stream",
     "text": [
      "scanpy==1.5.1 anndata==0.7.4 umap==0.4.6 numpy==1.19.0 scipy==1.5.1 pandas==1.0.5 scikit-learn==0.23.1 statsmodels==0.11.1\n"
     ]
    }
   ],
   "source": [
    "import scanpy as sc\n",
    "import pandas as pd\n",
    "import numpy as np\n",
    "import scipy as sp\n",
    "from statsmodels.stats.multitest import multipletests\n",
    "import matplotlib.pyplot as plt\n",
    "import seaborn as sns\n",
    "import os\n",
    "import time\n",
    "from gprofiler import GProfiler\n",
    "\n",
    "# scTRS tools\n",
    "import scTRS.util as util\n",
    "import scTRS.data_loader as dl\n",
    "import scTRS.method as md\n",
    "\n",
    "# autoreload\n",
    "%load_ext autoreload\n",
    "%autoreload 2\n",
    "# logging\n",
    "sc.logging.print_versions()"
   ]
  },
  {
   "cell_type": "code",
   "execution_count": 2,
   "metadata": {},
   "outputs": [],
   "source": [
    "# Setup file paths\n",
    "DATA_PATH = '/n/holystore01/LABS/price_lab/Users/mjzhang/scTRS_data'\n",
    "# Please change this to your own path\n",
    "RESULT_PATH = '/n/home11/mjzhang/gwas_informed_scRNAseq/results'"
   ]
  },
  {
   "cell_type": "code",
   "execution_count": 3,
   "metadata": {},
   "outputs": [
    {
     "name": "stderr",
     "output_type": "stream",
     "text": [
      "Trying to set attribute `.obs` of view, copying.\n"
     ]
    },
    {
     "name": "stdout",
     "output_type": "stream",
     "text": [
      "# TMS facs count data: n_cell=110096, n_gene=22966\n",
      "# time=10.0s\n"
     ]
    }
   ],
   "source": [
    "# Count data (used for scoring genes)\n",
    "start_time = time.time()\n",
    "data_facs_ct = dl.load_tms_ct(DATA_PATH, data_name='facs')\n",
    "print('# TMS facs count data: n_cell=%d, n_gene=%d'\n",
    "      %(data_facs_ct.shape[0], data_facs_ct.shape[1]))\n",
    "print('# time=%0.1fs'%(time.time() - start_time))"
   ]
  },
  {
   "cell_type": "code",
   "execution_count": 4,
   "metadata": {},
   "outputs": [],
   "source": [
    "# Precompute mean and var \n",
    "md.compute_stats(data_facs_ct)"
   ]
  },
  {
   "cell_type": "code",
   "execution_count": 5,
   "metadata": {},
   "outputs": [
    {
     "name": "stdout",
     "output_type": "stream",
     "text": [
      "[0.05186189 0.07447904 0.01608617 0.00266137 0.        ]\n",
      "[ 0.39956956  0.82447401 -0.28406384 -0.35053454 -1.55664527]\n",
      "[0.34473679 0.20483514 0.61181927 0.63703121 0.94022264]\n",
      "[0.22229489 0.14275593 0.45964014 0.49143028 1.        ]\n",
      "[  0.7644657    1.06801917   0.10134037   0.02148274 -10.        ]\n"
     ]
    }
   ],
   "source": [
    "gene_list = ['Abca1', 'Abcg5', 'Abcg8', 'Abhd12', 'Abi2', 'Abo', 'Acad11', 'Acer2', 'Acmsd', 'Adnp2',\n",
    "             'Zdhhc24', 'Zhx3', 'Zfp112', 'Zfp180', 'Zfp296', 'Zfp366', 'Zfp664', 'Zfp78', 'Zfp821', 'Zpr1']\n",
    "ctrlgene_list = ['Angptl3', 'Anxa6', 'Anxa9', 'Ap1m2', 'Apoa5',\n",
    "                 'Apob', 'Apoc1', 'Apoc4', 'Apoe', 'Arcn1', 'Arhgap1', 'Arhgef15',\n",
    "                 'Arid1a', 'Arid3a', 'Asgr1', 'Atg13', 'Atg4c', 'Atp13a1']\n",
    "np.random.seed(0)\n",
    "gene_weight = np.random.rand(len(gene_list))\n",
    "\n",
    "md.score_cell(data_facs_ct, gene_list, gene_weight=gene_weight, suffix='',\n",
    "              ctrl_opt='mean_match', trs_opt='vst', bc_opt='empi',\n",
    "              n_ctrl=1, n_genebin=200, ctrlgene_list=ctrlgene_list,\n",
    "              return_list=['trs', 'trs_z', 'trs_tp', 'trs_ep', 'trs_ez'], verbose=False)\n",
    "\n",
    "print(data_facs_ct.obs['trs'].values[0:5])\n",
    "print(data_facs_ct.obs['trs_z'].values[0:5])\n",
    "print(data_facs_ct.obs['trs_tp'].values[0:5])\n",
    "print(data_facs_ct.obs['trs_ep'].values[0:5])\n",
    "print(data_facs_ct.obs['trs_ez'].values[0:5])"
   ]
  },
  {
   "cell_type": "code",
   "execution_count": 10,
   "metadata": {},
   "outputs": [
    {
     "name": "stdout",
     "output_type": "stream",
     "text": [
      "[0.05186189 0.07447904 0.01608617 0.00266137 0.        ]\n",
      "[ 0.39956956  0.82447401 -0.28406384 -0.35053454 -1.55664527]\n",
      "[0.34473679 0.20483514 0.61181927 0.63703121 0.94022264]\n",
      "[0.22229489 0.14275593 0.45964014 0.49143028 1.        ]\n",
      "[  0.7644657    1.06801917   0.10134037   0.02148274 -10.        ]\n"
     ]
    }
   ],
   "source": [
    "gene_list = ['Abca1', 'Abcg5', 'Abcg8', 'Abhd12', 'Abi2', 'Abo', 'Acad11', 'Acer2', 'Acmsd', 'Adnp2',\n",
    "             'Zdhhc24', 'Zhx3', 'Zfp112', 'Zfp180', 'Zfp296', 'Zfp366', 'Zfp664', 'Zfp78', 'Zfp821', 'Zpr1']\n",
    "ctrlgene_list = ['Angptl3', 'Anxa6', 'Anxa9', 'Ap1m2', 'Apoa5',\n",
    "                 'Apob', 'Apoc1', 'Apoc4', 'Apoe', 'Arcn1', 'Arhgap1', 'Arhgef15',\n",
    "                 'Arid1a', 'Arid3a', 'Asgr1', 'Atg13', 'Atg4c', 'Atp13a1']\n",
    "np.random.seed(0)\n",
    "gene_weight = np.random.rand(len(gene_list))\n",
    "\n",
    "md.score_cell(data_facs_ct, gene_list, gene_weight=gene_weight, suffix='',\n",
    "              ctrl_opt='mean_match', trs_opt='vst', bc_opt='empi',\n",
    "              n_ctrl=1, n_genebin=200, ctrlgene_list=ctrlgene_list,\n",
    "              return_list=['trs', 'trs_z', 'trs_tp', 'trs_ep', 'trs_ez'], verbose=False)\n",
    "\n",
    "print(data_facs_ct.obs['trs'].values[0:5])\n",
    "print(data_facs_ct.obs['trs_z'].values[0:5])\n",
    "print(data_facs_ct.obs['trs_tp'].values[0:5])\n",
    "print(data_facs_ct.obs['trs_ep'].values[0:5])\n",
    "print(data_facs_ct.obs['trs_ez'].values[0:5])"
   ]
  },
  {
   "cell_type": "code",
   "execution_count": null,
   "metadata": {},
   "outputs": [],
   "source": []
  }
 ],
 "metadata": {
  "kernelspec": {
   "display_name": "Python 3",
   "language": "python",
   "name": "python3"
  },
  "language_info": {
   "codemirror_mode": {
    "name": "ipython",
    "version": 3
   },
   "file_extension": ".py",
   "mimetype": "text/x-python",
   "name": "python",
   "nbconvert_exporter": "python",
   "pygments_lexer": "ipython3",
   "version": "3.7.2"
  }
 },
 "nbformat": 4,
 "nbformat_minor": 4
}
