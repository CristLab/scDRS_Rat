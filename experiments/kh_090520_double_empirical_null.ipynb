{
 "cells": [
  {
   "cell_type": "code",
   "execution_count": 1,
   "metadata": {},
   "outputs": [
    {
     "name": "stdout",
     "output_type": "stream",
     "text": [
      "scanpy==1.5.1 anndata==0.7.4 umap==0.4.6 numpy==1.19.0 scipy==1.5.1 pandas==1.0.5 scikit-learn==0.23.1 statsmodels==0.11.1\n"
     ]
    }
   ],
   "source": [
    "import scanpy as sc\n",
    "import pandas as pd\n",
    "import numpy as np\n",
    "import scipy as sp\n",
    "from statsmodels.stats.multitest import multipletests\n",
    "import matplotlib.pyplot as plt\n",
    "import seaborn as sns\n",
    "import os\n",
    "import time\n",
    "from gprofiler import GProfiler\n",
    "from scipy.stats import rankdata\n",
    "\n",
    "# scTRS tools\n",
    "import scTRS.util as util\n",
    "import scTRS.data_loader as dl\n",
    "import scTRS.method as md\n",
    "\n",
    "# autoreload\n",
    "%load_ext autoreload\n",
    "%autoreload 2\n",
    "# logging\n",
    "sc.logging.print_versions()"
   ]
  },
  {
   "cell_type": "code",
   "execution_count": 2,
   "metadata": {},
   "outputs": [
    {
     "name": "stderr",
     "output_type": "stream",
     "text": [
      "Trying to set attribute `.obs` of view, copying.\n"
     ]
    },
    {
     "name": "stdout",
     "output_type": "stream",
     "text": [
      "# TMS facs count data: n_cell=110096, n_gene=22953\n",
      "# time=14.6s\n"
     ]
    }
   ],
   "source": [
    "#### Setup file paths\n",
    "DATA_PATH = '/n/holystore01/LABS/price_lab/Users/mjzhang/scTRS_data'\n",
    "# Please change this to your own path\n",
    "RESULT_PATH = '/n/home12/khou/scTRS_results/'\n",
    "\n",
    "# Count data (used for scoring genes)\n",
    "start_time = time.time()\n",
    "data_facs_ct = dl.load_tms_ct(DATA_PATH, data_name='facs', flag_scale=False, flag_filter_genes=True)\n",
    "print('# TMS facs count data: n_cell=%d, n_gene=%d'\n",
    "      %(data_facs_ct.shape[0], data_facs_ct.shape[1]))\n",
    "print('# time=%0.1fs'%(time.time() - start_time))\n"
   ]
  },
  {
   "cell_type": "code",
   "execution_count": 3,
   "metadata": {},
   "outputs": [],
   "source": [
    "# precompute some statistics\n",
    "adata = data_facs_ct.copy()\n",
    "mean, var = util.get_sparse_var(adata.X, axis=0)\n",
    "adata.var['mean'] = mean\n",
    "adata.var['var'] = var\n",
    "adata.var['mean_rank'] = rankdata(adata.var['mean'], method='ordinal') - 1\n",
    "\n",
    "mean, var = util.get_sparse_var(adata.X, axis=1)\n",
    "adata.obs['mean'] = mean\n",
    "adata.obs['var'] = var"
   ]
  },
  {
   "cell_type": "code",
   "execution_count": 4,
   "metadata": {},
   "outputs": [],
   "source": [
    "# Genearate null gene sets\n",
    "np.random.seed(0)\n",
    "dic_trait_geneset = {}\n",
    "n_gene = 500\n",
    "\n",
    "df_gene = pd.DataFrame(index=data_facs_ct.var_names)\n",
    "df_gene['mean'] = data_facs_ct.X.mean(axis=0).T\n",
    "df_gene = df_gene.sort_values(by=['mean'])\n",
    "\n",
    "\n",
    "ind_select = np.random.permutation(2000)[:n_gene]\n",
    "gene_list =  list(df_gene.index[-2000:][ind_select])\n",
    "\n",
    "trait_X = adata[:, gene_list].X.toarray()\n",
    "trait_trs = trait_X.mean(axis=1)"
   ]
  },
  {
   "cell_type": "code",
   "execution_count": 5,
   "metadata": {},
   "outputs": [],
   "source": [
    "import numpy as np\n",
    "from scipy import stats\n",
    "import pandas as pd\n",
    "import warnings\n",
    "import matplotlib.pyplot as plt\n",
    "from statsmodels.genmod.generalized_linear_model import GLM\n",
    "from statsmodels.genmod.generalized_linear_model import families\n",
    "from statsmodels.regression.linear_model import OLS\n",
    "from patsy import build_design_matrices, dmatrix\n",
    "\n",
    "def poisson_deviance(fitted, y, df):\n",
    "\n",
    "    l = np.log(fitted)\n",
    "    Fl = fitted.cumsum()\n",
    "    Fr = fitted[::-1].cumsum()\n",
    "    dev = ((y - fitted) / np.sqrt((fitted + 1)))\n",
    "    dev = sum(np.power(dev[1:(len(y)-1)], 2)) / (len(y) - 2 - df)\n",
    "    return dev\n",
    "\n",
    "# https://www.statsmodels.org/stable/generated/statsmodels.stats.multitest.local_fdr.html\n",
    "class ExpPolyDensity():\n",
    "    \"\"\"\n",
    "    Fit exponential of polynomial function for density estimation\n",
    "    \"\"\"\n",
    "    def __init__(self, nbins = 120, df = 7, design_type = 'poly'):\n",
    "        self.nbins = nbins\n",
    "        self.df = df\n",
    "        assert design_type in ['poly', 'ns']\n",
    "        self.design_type = design_type\n",
    "    \n",
    "    def design_fit_transform(self, x):\n",
    "        if self.design_type == 'poly':\n",
    "            # TODO: implement this with pasty for uniformality\n",
    "            \n",
    "            # The design matrix at bin centers\n",
    "            dmat = np.vander(x, self.df + 1)\n",
    "            \n",
    "            # Rescale the design matrix\n",
    "            self.design_sd = dmat.std(0)\n",
    "            self.design_ii = self.design_sd > 1e-8\n",
    "            dmat[:, self.design_ii] /= self.design_sd[self.design_ii]\n",
    "        \n",
    "        elif self.design_type == 'ns':\n",
    "            # natural spline fit\n",
    "            \n",
    "            dmat = dmatrix(f\"cr(x, df={self.df})\", {\"x\": x})\n",
    "            self.design_info = dmat.design_info\n",
    "            \n",
    "        return dmat\n",
    "        \n",
    "        \n",
    "    def design_transform(self, x):\n",
    "        if self.design_type == 'poly':\n",
    "            dmat = np.vander(x, self.df + 1)\n",
    "            dmat[:, self.design_ii] /= self.design_sd[self.design_ii]\n",
    "        \n",
    "        elif self.design_type == 'ns':\n",
    "            dmat = build_design_matrices([self.design_info], {\"x\": x})[0]\n",
    "\n",
    "        return dmat\n",
    "    \n",
    "    def fit(self, zscores):\n",
    "        # Bins for Poisson modeling of the marginal Z-score density\n",
    "        minz = min(zscores)\n",
    "        maxz = max(zscores)\n",
    "        bins = np.linspace(minz, maxz, self.nbins)\n",
    "        self.normalize_const = 1 / ((bins[1] - bins[0]) * len(zscores))\n",
    "\n",
    "        # Bin counts\n",
    "        zhist = np.histogram(zscores, bins)[0]\n",
    "\n",
    "        # Bin centers\n",
    "        zbins = (bins[:-1] + bins[1:]) / 2\n",
    "\n",
    "        # The design matrix at bin centers\n",
    "        dmat = self.design_fit_transform(zbins)\n",
    "        \n",
    "        start = OLS(np.log(1 + zhist), dmat).fit().params\n",
    "\n",
    "        # Poisson regression\n",
    "        self.model = GLM(zhist, dmat, family=families.Poisson()).fit(start_params=start)\n",
    "        deviance = poisson_deviance(self.model.fittedvalues, zhist, self.df)\n",
    "        if deviance > 1.5:\n",
    "            warnings.warn(\"f(z) misfit = \" + str(round(deviance, 1)) + \". Rerun with larger df.\")\n",
    "        return self\n",
    "            \n",
    "    def score_samples(self, zscores):\n",
    "        dmat_full = self.design_transform(zscores)\n",
    "        fz = self.model.predict(dmat_full) * self.normalize_const\n",
    "        \n",
    "        return fz"
   ]
  },
  {
   "cell_type": "code",
   "execution_count": 6,
   "metadata": {},
   "outputs": [
    {
     "name": "stderr",
     "output_type": "stream",
     "text": [
      "/opt/conda/root/lib/python3.6/site-packages/ipykernel_launcher.py:84: UserWarning: f(z) misfit = 1.5. Rerun with larger df.\n"
     ]
    }
   ],
   "source": [
    "p0 = 0.9\n",
    "left, right = ((1 - p0) / 2, 1 - (1 - p0) / 2)\n",
    "left_bound, right_bound = np.quantile(trait_trs, [left, right])\n",
    "\n",
    "null_index = (left_bound <= trait_trs) & (trait_trs <= right_bound)\n",
    "null_density = ExpPolyDensity(df=10, design_type='ns').fit(trait_trs[null_index])\n",
    "mix_density = ExpPolyDensity(df=10, design_type='ns').fit(trait_trs)"
   ]
  },
  {
   "cell_type": "code",
   "execution_count": 7,
   "metadata": {},
   "outputs": [
    {
     "data": {
      "text/plain": [
       "<Figure size 1008x576 with 0 Axes>"
      ]
     },
     "metadata": {},
     "output_type": "display_data"
    },
    {
     "data": {
      "image/png": "[encoded data removed]",
      "text/plain": [
       "<Figure size 576x432 with 1 Axes>"
      ]
     },
     "metadata": {
      "needs_background": "light"
     },
     "output_type": "display_data"
    }
   ],
   "source": [
    "fig = plt.figure(figsize = (14, 8))\n",
    "num_breaks = 120\n",
    "bins = np.linspace(min(trait_trs), max(trait_trs), num_breaks)\n",
    "plt.figure(figsize=(8, 6))\n",
    "plt.hist(trait_trs, bins = bins, fill=False, density=True)\n",
    "plt.plot(bins, null_density.score_samples(bins) * p0, color='r', ls='-.', linewidth = 3, label='null density')\n",
    "plt.plot(bins, mix_density.score_samples(bins), color='g', ls = '-.', linewidth = 3, label='mix density')\n",
    "\n",
    "plt.axvline(x=left_bound, ls='--', label='central part')\n",
    "plt.axvline(x=right_bound, ls='--', label='central part')\n",
    "plt.legend()\n",
    "plt.show()"
   ]
  },
  {
   "cell_type": "markdown",
   "metadata": {},
   "source": [
    "# For some artificial data"
   ]
  },
  {
   "cell_type": "code",
   "execution_count": 8,
   "metadata": {},
   "outputs": [],
   "source": [
    "np.random.seed(1)\n",
    "data = np.concatenate([\n",
    "    np.random.normal(loc=0, size=10000),\n",
    "    np.random.normal(loc=3, scale=2, size=1000)])"
   ]
  },
  {
   "cell_type": "code",
   "execution_count": 9,
   "metadata": {},
   "outputs": [],
   "source": [
    "p0 = 0.9\n",
    "left, right = ((1 - p0) / 2, 1 - (1 - p0) / 2)\n",
    "left_bound, right_bound = np.quantile(data, [left, right])\n",
    "\n",
    "null_index = (left_bound <= data) & (data <= right_bound)\n",
    "null_density = ExpPolyDensity(df=5, design_type='ns').fit(data[null_index])\n",
    "mix_density = ExpPolyDensity(df=10, design_type='ns').fit(data)"
   ]
  },
  {
   "cell_type": "code",
   "execution_count": 10,
   "metadata": {},
   "outputs": [
    {
     "data": {
      "text/plain": [
       "<Figure size 1008x576 with 0 Axes>"
      ]
     },
     "metadata": {},
     "output_type": "display_data"
    },
    {
     "data": {
      "image/png": "[encoded data removed]",
      "text/plain": [
       "<Figure size 576x432 with 1 Axes>"
      ]
     },
     "metadata": {
      "needs_background": "light"
     },
     "output_type": "display_data"
    }
   ],
   "source": [
    "fig = plt.figure(figsize = (14, 8))\n",
    "num_breaks = 120\n",
    "bins = np.linspace(min(data), max(data), num_breaks)\n",
    "plt.figure(figsize=(8, 6))\n",
    "plt.hist(data, bins = bins, fill=False, density=True)\n",
    "plt.plot(bins, null_density.score_samples(bins) * p0, color='r', ls='-.', linewidth = 2, label='null density')\n",
    "plt.plot(bins, mix_density.score_samples(bins), color='g', ls = '-.', linewidth = 2, label='mix density')\n",
    "\n",
    "plt.axvline(x=left_bound, ls='--', label='central part')\n",
    "plt.axvline(x=right_bound, ls='--', label='central part')\n",
    "plt.legend()\n",
    "plt.show()"
   ]
  },
  {
   "cell_type": "code",
   "execution_count": null,
   "metadata": {},
   "outputs": [],
   "source": []
  }
 ],
 "metadata": {
  "kernelspec": {
   "display_name": "Python 3",
   "language": "python",
   "name": "python3"
  },
  "language_info": {
   "codemirror_mode": {
    "name": "ipython",
    "version": 3
   },
   "file_extension": ".py",
   "mimetype": "text/x-python",
   "name": "python",
   "nbconvert_exporter": "python",
   "pygments_lexer": "ipython3",
   "version": "3.6.5"
  }
 },
 "nbformat": 4,
 "nbformat_minor": 2
}
